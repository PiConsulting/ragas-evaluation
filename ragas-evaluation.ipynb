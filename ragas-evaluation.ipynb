{
  "cells": [
    {
      "cell_type": "markdown",
      "metadata": {
        "id": "qQG4iSxVxw8f"
      },
      "source": [
        "# RAGAS Evaluation para LangChain Agents"
      ]
    },
    {
      "cell_type": "code",
      "execution_count": 1,
      "metadata": {
        "colab": {
          "base_uri": "https://localhost:8080/"
        },
        "id": "1eOnr6z_zLoc",
        "outputId": "b43767c1-4b53-498c-c21e-922b7d3c4696"
      },
      "outputs": [
        {
          "name": "stdout",
          "output_type": "stream",
          "text": [
            "Python 3.12.4\n"
          ]
        }
      ],
      "source": [
        "!python --version"
      ]
    },
    {
      "cell_type": "markdown",
      "metadata": {
        "id": "ov6TCS7bx1oI"
      },
      "source": [
        "**R**etrieval **A**ugmented **G**eneration **As**sessment (RAGAS) es un framework de evaluación diseñado para cuantificar el rendimiento de nuestros pipelines RAG (Retrieval-Augmented Generation). En este ejemplo, veremos cómo usarlo con un agente conversacional habilitado con RAG utilizando LangChain.\n",
        "\n",
        "Dado que necesitamos tanto un agente como un pipeline RAG para poder evaluar con RAGAS, la primera parte de este notebook se centra en configurar un agente con RAG. Si lo deseás, podés avanzar directamente a la sección **Integrando RAGAS** para ver el uso de RAGAS.\n",
        "\n",
        "Para comenzar, instalemos los requisitos previos:"
      ]
    },
    {
      "cell_type": "code",
      "execution_count": 2,
      "metadata": {},
      "outputs": [
        {
          "name": "stderr",
          "output_type": "stream",
          "text": [
            "\n",
            "[notice] A new release of pip is available: 25.0 -> 25.1.1\n",
            "[notice] To update, run: python.exe -m pip install --upgrade pip\n"
          ]
        }
      ],
      "source": [
        "!pip install -qU langchain chromadb ragas datasets python-dotenv"
      ]
    },
    {
      "cell_type": "code",
      "execution_count": 3,
      "metadata": {
        "id": "VeosBMaIDs52"
      },
      "outputs": [],
      "source": [
        "from dotenv import load_dotenv\n",
        "import os\n",
        "\n",
        "# Cargar variables del archivo .env\n",
        "load_dotenv()\n",
        "\n",
        "# Verifica si se cargó correctamente (opcional)\n",
        "assert os.getenv(\"OPENAI_API_KEY\") is not None, \"Falta la clave de OpenAI\""
      ]
    },
    {
      "cell_type": "markdown",
      "metadata": {
        "id": "bpKfZkUYzQhB"
      },
      "source": [
        "## Fuente de conocimientos"
      ]
    },
    {
      "cell_type": "markdown",
      "metadata": {
        "id": "JDTQoxcNzUa8"
      },
      "source": [
        "Lo primero que necesitamos para un agente que utilice RAG es una fuente desde la cual recuperar conocimiento. En este caso, utilizaremos la versión 2 del dataset **AI ArXiv**, disponible en Hugging Face Datasets en [`jamescalam/ai-arxiv2-chunks`](https://huggingface.co/datasets/jamescalam/ai-arxiv2-chunks).\n",
        "\n",
        "_Nota: estamos usando el dataset ya preprocesado en fragmentos (prechunked). Para acceder a la versión sin procesar, consultá [`jamescalam/ai-arxiv2`](https://huggingface.co/datasets/jamescalam/ai-arxiv2)._\n"
      ]
    },
    {
      "cell_type": "code",
      "execution_count": 4,
      "metadata": {
        "colab": {
          "base_uri": "https://localhost:8080/",
          "height": 297,
          "referenced_widgets": [
            "4b77ad5351bb4025be38d174ee9288a2",
            "e0be261c59d24b6188440a59391c16b8",
            "d450832f530c430cbb8040a1febb8d67",
            "b4ddf1bfdfe94e879c68b9ecfeae423e",
            "1963e604f6f84d1394ef0f5329bfed83",
            "83dfc2c36bd54ec6867d76a4f23e6726",
            "9dcbadd1b0864b99bb8ddc7631d99de0",
            "a06cec752c844242812abaec6aab0ad0",
            "6e374f4315674d6aaa0ff137aa50cac5",
            "9d5b412671284b85ad87d0fc93cc517b",
            "0e1562bc68a2493f8714fe490b21f0a0",
            "fc58156677c04c30a8d0c468c2a9421b",
            "2c6bcde588684c74b31e0ba64652bf10",
            "f923f5f768d548f88baa37bade011d7b",
            "e952debe03384be983daaff7306a2a1e",
            "d8e21208bded4906967180f28557b046",
            "aab214cee4414cfb95a525ea11635d40",
            "aaa3db9ab46a439a82ab82e308820df4",
            "c467e357ea5742efaf9d07c67b33bab6",
            "e503d6bc4517471fa75e4cd62d9081ac",
            "8482c2ffa17444f88d6c46163df3499a",
            "762eea88a5824b3ebe599eb82c48788a"
          ]
        },
        "id": "U9gpYFnzbFKm",
        "outputId": "4d65517e-e5b9-4182-b0cb-9a5cb60f2438"
      },
      "outputs": [
        {
          "name": "stderr",
          "output_type": "stream",
          "text": [
            "c:\\Users\\aguro\\AppData\\Local\\Programs\\Python\\Python312\\Lib\\site-packages\\tqdm\\auto.py:21: TqdmWarning: IProgress not found. Please update jupyter and ipywidgets. See https://ipywidgets.readthedocs.io/en/stable/user_install.html\n",
            "  from .autonotebook import tqdm as notebook_tqdm\n"
          ]
        },
        {
          "data": {
            "text/plain": [
              "Dataset({\n",
              "    features: ['doi', 'chunk-id', 'chunk', 'id', 'title', 'summary', 'source', 'authors', 'categories', 'comment', 'journal_ref', 'primary_category', 'published', 'updated', 'references'],\n",
              "    num_rows: 20000\n",
              "})"
            ]
          },
          "execution_count": 4,
          "metadata": {},
          "output_type": "execute_result"
        }
      ],
      "source": [
        "from tqdm.auto import tqdm\n",
        "from datasets import load_dataset\n",
        "\n",
        "dataset = load_dataset(\"jamescalam/ai-arxiv2-chunks\", split=\"train[:20000]\")\n",
        "dataset"
      ]
    },
    {
      "cell_type": "code",
      "execution_count": 5,
      "metadata": {
        "colab": {
          "base_uri": "https://localhost:8080/"
        },
        "id": "_bP7ZW-ybFKm",
        "outputId": "f60b1622-3462-4d0d-9845-c333667eab2f"
      },
      "outputs": [
        {
          "data": {
            "text/plain": [
              "{'doi': '2401.09350',\n",
              " 'chunk-id': 1,\n",
              " 'chunk': 'These neural networks and their training algorithms may be complex, and the scope of their impact broad and wide, but nonetheless they are simply functions in a high-dimensional space. A trained neural network takes a vector as input, crunches and transforms it in various ways, and produces another vector, often in some other space. An image may thereby be turned into a vector, a song into a sequence of vectors, and a social network as a structured collection of vectors. It seems as though much of human knowledge, or at least what is expressed as text, audio, image, and video, has a vector representation in one form or another.\\nIt should be noted that representing data as vectors is not unique to neural networks and deep learning. In fact, long before learnt vector representations of pieces of dataâ\\x80\\x94what is commonly known as â\\x80\\x9cembeddingsâ\\x80\\x9dâ\\x80\\x94came along, data was often encoded as hand-crafted feature vectors. Each feature quanti- fied into continuous or discrete values some facet of the data that was deemed relevant to a particular task (such as classification or regression). Vectors of that form, too, reflect our understanding of a real-world object or concept.',\n",
              " 'id': '2401.09350#1',\n",
              " 'title': 'Foundations of Vector Retrieval',\n",
              " 'summary': 'Vectors are universal mathematical objects that can represent text, images,\\nspeech, or a mix of these data modalities. That happens regardless of whether\\ndata is represented by hand-crafted features or learnt embeddings. Collect a\\nlarge enough quantity of such vectors and the question of retrieval becomes\\nurgently relevant: Finding vectors that are more similar to a query vector.\\nThis monograph is concerned with the question above and covers fundamental\\nconcepts along with advanced data structures and algorithms for vector\\nretrieval. In doing so, it recaps this fascinating topic and lowers barriers of\\nentry into this rich area of research.',\n",
              " 'source': 'http://arxiv.org/pdf/2401.09350',\n",
              " 'authors': 'Sebastian Bruch',\n",
              " 'categories': 'cs.DS, cs.IR',\n",
              " 'comment': None,\n",
              " 'journal_ref': None,\n",
              " 'primary_category': 'cs.DS',\n",
              " 'published': '20240117',\n",
              " 'updated': '20240117',\n",
              " 'references': []}"
            ]
          },
          "execution_count": 5,
          "metadata": {},
          "output_type": "execute_result"
        }
      ],
      "source": [
        "dataset[1]"
      ]
    },
    {
      "cell_type": "markdown",
      "metadata": {
        "id": "VX6NdQhgbFKn"
      },
      "source": [
        "## Construcción de la Base de Conocimiento"
      ]
    },
    {
      "cell_type": "markdown",
      "metadata": {
        "id": "MDCbqQl_bFKn"
      },
      "source": [
        "Para construir nuestra base de conocimiento necesitamos _dos cosas_:\n",
        "\n",
        "1. **Embeddings**: en este ejemplo utilizamos `OpenAIEmbeddings` con el modelo `text-embedding-3-small` de OpenAI.\n",
        "2. **Una base de datos vectorial**, donde almacenamos los embeddings y realizamos consultas. Usamos **Chroma** como almacenamiento persistente local.\n",
        "\n",
        "Además, usamos la librería `tiktoken` para calcular la cantidad de tokens total y estimar el costo de los embeddings antes de ejecutarlo.\n"
      ]
    },
    {
      "cell_type": "code",
      "execution_count": 61,
      "metadata": {},
      "outputs": [
        {
          "name": "stdout",
          "output_type": "stream",
          "text": [
            "Tokens totales: 5027645\n",
            "Costo estimado: $0.100553 USD\n"
          ]
        }
      ],
      "source": [
        "import tiktoken\n",
        "\n",
        "# Cargar dataset (ajustá el split según lo que uses)\n",
        "data = dataset.to_pandas()\n",
        "\n",
        "# Lista de textos\n",
        "texts = data[\"chunk\"].tolist()\n",
        "\n",
        "# Calcular tokens por texto con tiktoken\n",
        "enc = tiktoken.encoding_for_model(\"text-embedding-3-small\")\n",
        "token_counts = [len(enc.encode(text, disallowed_special=())) for text in texts]\n",
        "\n",
        "# Total\n",
        "total_tokens = sum(token_counts)\n",
        "cost_per_1M = 0.02\n",
        "estimated_cost_usd = (total_tokens / 1000000) * cost_per_1M\n",
        "\n",
        "print(f\"Tokens totales: {total_tokens}\")\n",
        "print(f\"Costo estimado: ${estimated_cost_usd:.6f} USD\")"
      ]
    },
    {
      "cell_type": "code",
      "execution_count": 63,
      "metadata": {
        "id": "j0N7EcJibFKo"
      },
      "outputs": [],
      "source": [
        "from langchain_community.vectorstores import Chroma\n",
        "from langchain.embeddings import OpenAIEmbeddings\n",
        "\n",
        "embedding_function = OpenAIEmbeddings(model=\"text-embedding-3-small\")\n",
        "\n",
        "vectorstore = Chroma(persist_directory=\"chroma_db\", embedding_function=embedding_function)"
      ]
    },
    {
      "cell_type": "markdown",
      "metadata": {
        "id": "6ZUn2lu7bFKp"
      },
      "source": [
        "### Poblando nuestra base de datos vectorial"
      ]
    },
    {
      "cell_type": "markdown",
      "metadata": {
        "id": "PeVD6d0sbFKp"
      },
      "source": [
        "Ahora nuestra base de conocimiento está lista para ser poblada con los datos.\n",
        "\n",
        "Vamos a agregar los documentos a la base de datos vectorial (`Chroma`), que internamente calculará los embeddings usando el modelo `text-embedding-3-small` de OpenAI.\n",
        "\n",
        "Además, incluimos los metadatos de cada documento, como el título y la fuente, para facilitar búsquedas y trazabilidad futuras.\n",
        "\n",
        "`Nota: Antes de insertar los textos en la base vectorial, aplicamos una pequeña función de limpieza. Esta función remueve el token especial <|endoftext|>, que a veces aparece al final de ciertos textos generados por modelos de lenguaje. Este token no aporta información semántica útil y puede interferir en el proceso de embedding o recuperación si se deja tal cual.\n",
        "\n",
        "Al reemplazarlo por un espacio y eliminar espacios sobrantes con .strip(), aseguramos que los textos estén limpios y normalizados antes de ser embebidos y almacenados.`\n"
      ]
    },
    {
      "cell_type": "code",
      "execution_count": 9,
      "metadata": {
        "colab": {
          "base_uri": "https://localhost:8080/",
          "height": 49,
          "referenced_widgets": [
            "b6fc6cb9ba394e228296a79d9bb81f2b",
            "9b6aa18bad374ab7a124092ddc5f7b22",
            "e1df49b9f89049cb93568cd2ee55afbf",
            "cfcd47466da84513afcd001bc025af0a",
            "ac69b8f2af604a21bac6fe4d9a62b084",
            "604b6cbd494646a09c28a932dae4f9f1",
            "8b787653fbb44649935b49b088045177",
            "f854ce0db34a4945afaafd7eaf787081",
            "766a0f2c7916452389943f94549ead67",
            "6e0fd11b754a4625b63aa7330fc96032",
            "8c2593763f4d49239c7bab4c9117cb2b"
          ]
        },
        "id": "hb00VSTqbFKp",
        "outputId": "6ee3ba32-2611-4d0e-b346-8968b6b154f5"
      },
      "outputs": [
        {
          "name": "stderr",
          "output_type": "stream",
          "text": [
            "100%|██████████| 200/200 [00:04<00:00, 47.10it/s]\n"
          ]
        }
      ],
      "source": [
        "batch_size = 100\n",
        "\n",
        "def clean_special_tokens(text):\n",
        "    return text.replace(\"<|endoftext|>\", \" \").strip()\n",
        "\n",
        "# Ver textos ya cargados\n",
        "existing_docs = vectorstore.get()\n",
        "existing_texts = set(existing_docs[\"documents\"])\n",
        "\n",
        "for i in tqdm(range(0, len(data), batch_size)):\n",
        "    i_end = min(len(data), i + batch_size)\n",
        "    batch = data.iloc[i:i_end]\n",
        "\n",
        "    texts = batch[\"chunk\"].tolist()\n",
        "    metadatas = batch[[\"source\", \"title\", \"chunk\"]].to_dict(orient=\"records\")\n",
        "\n",
        "    # Filtrar textos que no están ya en la base\n",
        "    new_texts_and_metas = [\n",
        "        (clean_special_tokens(t), m) for t, m in zip(texts, metadatas) if t not in existing_texts\n",
        "    ]\n",
        "\n",
        "    if new_texts_and_metas:\n",
        "        new_texts, new_metas = zip(*new_texts_and_metas)\n",
        "        vectorstore.add_texts(texts=list(new_texts), metadatas=list(new_metas))"
      ]
    },
    {
      "cell_type": "markdown",
      "metadata": {
        "id": "z6VVT3X_EMDO"
      },
      "source": [
        "Creamos una herramienta (tool) que pueda utilizar nuestro agente para buscar papers de ArXiv:"
      ]
    },
    {
      "cell_type": "code",
      "execution_count": 64,
      "metadata": {
        "id": "X9J5jHKcEQz6"
      },
      "outputs": [],
      "source": [
        "from langchain.agents import tool\n",
        "\n",
        "@tool\n",
        "def arxiv_search(query: str) -> str:\n",
        "    \"\"\"Use this tool when answering questions about AI, machine learning, data\n",
        "    science, or other technical questions that may be answered using arXiv papers.\n",
        "    \"\"\"\n",
        "    # Buscar en Chroma\n",
        "    results = vectorstore.similarity_search(query, k=5)\n",
        "    \n",
        "    # Convertir resultados en string legible\n",
        "    results_str = \"\\n---\\n\".join([doc.page_content for doc in results])\n",
        "    \n",
        "    return results_str\n",
        "\n",
        "tools = [arxiv_search]"
      ]
    },
    {
      "cell_type": "markdown",
      "metadata": {
        "id": "uN7d_4r-JMPW"
      },
      "source": [
        "Cuando el agente use esta tool, se ejecutará de la siguiente manera:"
      ]
    },
    {
      "cell_type": "code",
      "execution_count": 11,
      "metadata": {
        "colab": {
          "base_uri": "https://localhost:8080/"
        },
        "id": "eq4H-2RpI1U3",
        "outputId": "72b427a8-6807-409e-eeb8-46cd95e0ab45"
      },
      "outputs": [
        {
          "name": "stdout",
          "output_type": "stream",
          "text": [
            "Ethical Considerations and Limitations (Section 5.2) Llama 2 is a new technology that carries risks with use. Testing conducted to date has been in English, and has not covered, nor could it cover all scenarios. For these reasons, as with all LLMs, Llama 2âs potential outputs cannot be predicted in advance, and the model may in some instances produce inaccurate or objectionable responses to user prompts. Therefore, before deploying any applications of Llama 2, developers should perform safety testing and tuning tailored to their speciï¬c applications of the model. Please see the Responsible Use Guide available available at https://ai.meta.com/llama/responsible-user-guide\n",
            "Table 52: Model card for Llama 2.\n",
            "77\n",
            "---\n",
            "# GenAI, Meta\n",
            "# Abstract\n",
            "In this work, we develop and release Llama 2, a collection of pretrained and ï¬ne-tuned large language models (LLMs) ranging in scale from 7 billion to 70 billion parameters. Our ï¬ne-tuned LLMs, called Llama 2-Chat, are optimized for dialogue use cases. Our models outperform open-source chat models on most benchmarks we tested, and based on our human evaluations for helpfulness and safety, may be a suitable substitute for closed- source models. We provide a detailed description of our approach to ï¬ne-tuning and safety improvements of Llama 2-Chat in order to enable the community to build on our work and contribute to the responsible development of LLMs.\n",
            "âEqual contribution, corresponding authors: {tscialom, htouvron}@meta.com â Second author\n",
            "Contributions for all the authors can be found in Section A.1.\n",
            "# Contents\n",
            "# 1 Introduction\n",
            "---\n",
            "In this work, we develop and release Llama 2, a family of pretrained and ï¬ne-tuned LLMs, Llama 2 and Llama 2-Chat, at scales up to 70B parameters. On the series of helpfulness and safety benchmarks we tested, Llama 2-Chat models generally perform better than existing open-source models. They also appear to be on par with some of the closed-source models, at least on the human evaluations we performed (see Figures 1 and 3). We have taken measures to increase the safety of these models, using safety-speciï¬c data annotation and tuning, as well as conducting red-teaming and employing iterative evaluations. Additionally, this paper contributes a thorough description of our ï¬ne-tuning methodology and approach to improving LLM safety. We hope that this openness will enable the community to reproduce ï¬ne-tuned LLMs and continue to improve the safety of those models, paving the way for more responsible development of LLMs. We also share novel observations we made during the development of Llama 2 and Llama 2-Chat, such as the emergence of tool usage and temporal organization of knowledge.\n",
            "3\n",
            "---\n",
            "We are releasing the following models to the general public for research and commercial useâ¡:\n",
            "1. Llama 2, an updated version of Llama 1, trained on a new mix of publicly available data. We also increased the size of the pretraining corpus by 40%, doubled the context length of the model, and adopted grouped-query attention (Ainslie et al., 2023). We are releasing variants of Llama 2 with 7B, 13B, and 70B parameters. We have also trained 34B variants, which we report on in this paper but are not releasing.Â§\n",
            "2. Llama 2-Chat, a ï¬ne-tuned version of Llama 2 that is optimized for dialogue use cases. We release variants of this model with 7B, 13B, and 70B parameters as well.\n",
            "---\n",
            "World Knowledge. We evaluate the Llama 2 model together with other open-source models on the Natu- ralQuestions and TriviaQA benchmarks (Table 22).\n",
            "Reading Comprehension In Table 23 we report zero-shot and few-shot results on SQUAD and zero-shot and one-shot experiments on QUAC. Here Llama 2 performs best on all evaluation settings and models except the QUAC 0-shot where Llama 1 30B performs slightly better.\n",
            "In Table 24, we present ï¬ne-grained results from the English part of the AGI Eval (Zhong et al., Exams. 2023) benchmark. AGI Eval is a collection of standardized exams in diï¬erent subjects.\n",
            "48\n"
          ]
        }
      ],
      "source": [
        "print(\n",
        "    arxiv_search.run(tool_input={\"query\": \"can you tell me about llama 2?\"})\n",
        ")"
      ]
    },
    {
      "cell_type": "markdown",
      "metadata": {
        "id": "XUvJOqrNhYIh"
      },
      "source": [
        "## Definiento el Agente"
      ]
    },
    {
      "cell_type": "markdown",
      "metadata": {
        "id": "s45dwd78hbvk"
      },
      "source": [
        "Definimos el agente ReAct:"
      ]
    },
    {
      "cell_type": "code",
      "execution_count": 34,
      "metadata": {
        "colab": {
          "base_uri": "https://localhost:8080/"
        },
        "id": "ntuT7UuXeMz0",
        "outputId": "5fbd3eb2-1bf0-4023-a5a8-5d010937c7cb"
      },
      "outputs": [],
      "source": [
        "from langchain.chat_models import ChatOpenAI\n",
        "from langchain.agents import Tool, initialize_agent, AgentType\n",
        "from langchain.memory import ConversationBufferMemory\n",
        "\n",
        "# Definimos el historial de conversación.\n",
        "memory = ConversationBufferMemory(\n",
        "                                memory_key=\"chat_history\",\n",
        "                                return_messages=True,\n",
        "                                output_key=\"output\"\n",
        "                                )\n",
        "\n",
        "# Definí tus herramientas (ejemplo)\n",
        "tools = [\n",
        "    Tool(name=\"arxiv_search\", func=arxiv_search, description=\"Buscar papers en ArXiv\"),\n",
        "    # agregá más tools si tenés\n",
        "]\n",
        "\n",
        "# Usá GPT‑4.1 nano como LLM\n",
        "llm = ChatOpenAI(model_name=\"gpt-4.1-nano\", temperature=0)\n",
        "\n",
        "# Inicializá el agente con RETRIEVE‑THINK‑ACT (ReAct)\n",
        "agent_executor = initialize_agent(\n",
        "    tools=tools,\n",
        "    llm=llm,\n",
        "    agent=AgentType.CHAT_CONVERSATIONAL_REACT_DESCRIPTION,\n",
        "    memory=memory,\n",
        "    verbose=True,\n",
        "    return_intermediate_steps=True\n",
        ")"
      ]
    },
    {
      "cell_type": "markdown",
      "metadata": {
        "id": "QRCtHauRlkLc"
      },
      "source": [
        "Definimos la función 'chat' para facilitar el manejo de las salidas, contextos y pasos intermedios."
      ]
    },
    {
      "cell_type": "code",
      "execution_count": 35,
      "metadata": {
        "colab": {
          "base_uri": "https://localhost:8080/"
        },
        "id": "Y_Aqp20qloj7",
        "outputId": "705a299d-e2f8-441e-8ab4-525bd0ad0a88"
      },
      "outputs": [],
      "source": [
        "def chat(text: str):\n",
        "    # Ejecutamos el agente\n",
        "    result = agent_executor.invoke({\"input\": text})\n",
        "    \n",
        "    # Respuesta final del agente\n",
        "    output = result[\"output\"]\n",
        "    \n",
        "    # Recopilamos los pasos intermedios (herramienta + observación)\n",
        "    steps = result.get(\"intermediate_steps\", [])\n",
        "    \n",
        "    # Extraemos contextos: herramienta -> respuesta\n",
        "    contexts = [obs for (action, obs) in steps]\n",
        "    \n",
        "    # Imprimimos para lograr mayor claridad\n",
        "    print(f\"💬 Usuario: {text}\")\n",
        "    print(f\"🤖 Respuesta: {output}\")\n",
        "    if contexts:\n",
        "        print(\"🧠 Contextos recuperados:\")\n",
        "        for idx, c in enumerate(contexts, start=1):\n",
        "            print(f\"  {idx}. {c[:200].replace(chr(10), ' ')}{'...' if len(c)>200 else ''}\")\n",
        "    else:\n",
        "        print(\"⚠️ No se recuperaron contextos.\")\n",
        "    \n",
        "    # Retornamos todo para evaluación posterior\n",
        "    return {\"output\": output, \"contexts\": contexts, \"intermediate_steps\": steps}"
      ]
    },
    {
      "cell_type": "code",
      "execution_count": 36,
      "metadata": {
        "colab": {
          "base_uri": "https://localhost:8080/"
        },
        "id": "iJ_PH7YcA_f2",
        "outputId": "bd2bff11-f71e-46cf-bd9d-877ae8a2f3c4"
      },
      "outputs": [
        {
          "name": "stdout",
          "output_type": "stream",
          "text": [
            "\n",
            "\n",
            "\u001b[1m> Entering new AgentExecutor chain...\u001b[0m\n",
            "\u001b[32;1m\u001b[1;3m```json\n",
            "{\n",
            "    \"action\": \"arxiv_search\",\n",
            "    \"action_input\": \"Llama 2 language model\"\n",
            "}\n",
            "```\u001b[0m\n",
            "Observation: \u001b[36;1m\u001b[1;3mWe are releasing the following models to the general public for research and commercial useâ¡:\n",
            "1. Llama 2, an updated version of Llama 1, trained on a new mix of publicly available data. We also increased the size of the pretraining corpus by 40%, doubled the context length of the model, and adopted grouped-query attention (Ainslie et al., 2023). We are releasing variants of Llama 2 with 7B, 13B, and 70B parameters. We have also trained 34B variants, which we report on in this paper but are not releasing.Â§\n",
            "2. Llama 2-Chat, a ï¬ne-tuned version of Llama 2 that is optimized for dialogue use cases. We release variants of this model with 7B, 13B, and 70B parameters as well.\n",
            "---\n",
            "# GenAI, Meta\n",
            "# Abstract\n",
            "In this work, we develop and release Llama 2, a collection of pretrained and ï¬ne-tuned large language models (LLMs) ranging in scale from 7 billion to 70 billion parameters. Our ï¬ne-tuned LLMs, called Llama 2-Chat, are optimized for dialogue use cases. Our models outperform open-source chat models on most benchmarks we tested, and based on our human evaluations for helpfulness and safety, may be a suitable substitute for closed- source models. We provide a detailed description of our approach to ï¬ne-tuning and safety improvements of Llama 2-Chat in order to enable the community to build on our work and contribute to the responsible development of LLMs.\n",
            "âEqual contribution, corresponding authors: {tscialom, htouvron}@meta.com â Second author\n",
            "Contributions for all the authors can be found in Section A.1.\n",
            "# Contents\n",
            "# 1 Introduction\n",
            "---\n",
            "Ethical Considerations and Limitations (Section 5.2) Llama 2 is a new technology that carries risks with use. Testing conducted to date has been in English, and has not covered, nor could it cover all scenarios. For these reasons, as with all LLMs, Llama 2âs potential outputs cannot be predicted in advance, and the model may in some instances produce inaccurate or objectionable responses to user prompts. Therefore, before deploying any applications of Llama 2, developers should perform safety testing and tuning tailored to their speciï¬c applications of the model. Please see the Responsible Use Guide available available at https://ai.meta.com/llama/responsible-user-guide\n",
            "Table 52: Model card for Llama 2.\n",
            "77\n",
            "---\n",
            "Model Developers Meta AI Variations Llama 2 comes in a range of parameter sizesâ7B, 13B, and 70Bâas well as pretrained and ï¬ne-tuned variations. Input Models input text only. Output Models generate text only. Model Architecture Llama 2 is an auto-regressive language model that uses an optimized transformer architecture. The tuned versions use supervised ï¬ne-tuning (SFT) and reinforce- ment learning with human feedback (RLHF) to align to human preferences for helpfulness and safety. Model Dates Llama 2 was trained between January 2023 and July 2023. Status This is a static model trained on an oï¬ine dataset. Future versions of the tuned models will be released as we improve model safety with community feedback. License Where to send com- ments A custom commercial models-and-libraries/llama-downloads/ Instructions on how to provide feedback or comments on the model can be found in the model README, or by opening an issue in the GitHub repository (https://github.com/facebookresearch/llama/). license is available at: ai.meta.com/resources/ Intended Use Intended Use Cases Llama 2 is intended for commercial and research use in\n",
            "---\n",
            "Furthermore, our initial version of Llama 2-Chat predominantly concentrated on English-language data. While our experimental observations suggest the model has garnered some proï¬ciency in other languages, its proï¬ciency is limited, due primarily to the limited amount of pretraining data available in non-English languages (as documented in Table 10). Consequently, the modelâs performance in languages other than English remains fragile and should be used with caution.\n",
            "Like other LLMs, Llama 2 may generate harmful, oï¬ensive, or biased content due to its training on publicly available online datasets. We attempted to mitigate this via ï¬ne-tuning, but some issues may remain, particularly for languages other than English where publicly available datasets were not available. We will continue to ï¬ne-tune and release updated versions in the future as we progress on addressing these issues.\n",
            "â¡â¡https://openai.com/blog/chatgpt-plugins\n",
            "34\n",
            "Not everyone who uses AI models has good intentions, and conversational AI agents could potentially be used for nefarious purposes such as generating misinformation or retrieving information about topics like bioterrorism or cybercrime. We have, however, made eï¬orts to tune the models to avoid these topics and diminish any capabilities they might have oï¬ered for those use cases.\u001b[0m\n",
            "Thought:\u001b[32;1m\u001b[1;3m```json\n",
            "{\n",
            "    \"action\": \"Final Answer\",\n",
            "    \"action_input\": \"Llama 2 is a collection of large language models developed by Meta, available in sizes of 7B, 13B, and 70B parameters. It includes both pretrained and fine-tuned versions, with the fine-tuned Llama 2-Chat optimized for dialogue. The models are designed for research and commercial use, with safety and helpfulness considerations in mind. They are trained on publicly available data, primarily in English, and may have limited proficiency in other languages. Users should perform safety testing before deployment, as the models can produce inaccurate or biased outputs. More information can be found in the model's documentation and responsible use guidelines.\"\n",
            "}\u001b[0m\n",
            "\n",
            "\u001b[1m> Finished chain.\u001b[0m\n",
            "💬 Usuario: Can you tell me about llama 2?\n",
            "🤖 Respuesta: Llama 2 is a collection of large language models developed by Meta, available in sizes of 7B, 13B, and 70B parameters. It includes both pretrained and fine-tuned versions, with the fine-tuned Llama 2-Chat optimized for dialogue. The models are designed for research and commercial use, with safety and helpfulness considerations in mind. They are trained on publicly available data, primarily in English, and may have limited proficiency in other languages. Users should perform safety testing before deployment, as the models can produce inaccurate or biased outputs. More information can be found in the model's documentation and responsible use guidelines.\n",
            "🧠 Contextos recuperados:\n",
            "  1. We are releasing the following models to the general public for research and commercial useâ¡: 1. Llama 2, an updated version of Llama 1, trained on a new mix of publicly available data. We also incr...\n",
            "Llama 2 is a collection of large language models developed by Meta, available in sizes of 7B, 13B, and 70B parameters. It includes both pretrained and fine-tuned versions, with the fine-tuned Llama 2-Chat optimized for dialogue. The models are designed for research and commercial use, with safety and helpfulness considerations in mind. They are trained on publicly available data, primarily in English, and may have limited proficiency in other languages. Users should perform safety testing before deployment, as the models can produce inaccurate or biased outputs. More information can be found in the model's documentation and responsible use guidelines.\n"
          ]
        }
      ],
      "source": [
        "print(chat(\"Can you tell me about llama 2?\")[\"output\"])"
      ]
    },
    {
      "cell_type": "markdown",
      "metadata": {
        "id": "5p8m4Gc5w1OX"
      },
      "source": [
        "We can ask follow up questions that miss key information but thanks to the conversational history the LLM understands the context and uses that to adjust the search query.\n",
        "\n",
        "_Note: if missing `\"chat_history\"` parameter from the `agent` definition you will likely notice a lack of context in the search term, and in some cases this lack of good information can trigger a `ValueError` during output parsing._"
      ]
    },
    {
      "cell_type": "code",
      "execution_count": 37,
      "metadata": {
        "colab": {
          "base_uri": "https://localhost:8080/"
        },
        "id": "3XJ_3JIgBDRl",
        "outputId": "23ba5d06-5b63-433e-c8d5-6ea4a94f874d"
      },
      "outputs": [
        {
          "name": "stdout",
          "output_type": "stream",
          "text": [
            "\n",
            "\n",
            "\u001b[1m> Entering new AgentExecutor chain...\u001b[0m\n",
            "\u001b[32;1m\u001b[1;3m```json\n",
            "{\n",
            "    \"action\": \"arxiv_search\",\n",
            "    \"action_input\": \"Llama 2 red teaming safety evaluation\"\n",
            "}\n",
            "```\u001b[0m\n",
            "Observation: \u001b[36;1m\u001b[1;3m. . . . . . . . . . . . . . . 3.4 RLHF Results . . . . . . . . . . . . . . . . . . . . . . . . . . . . . . . . . . . . . . . . . . . . . . Safety in Pretraining . . . . . . . . . . . . . . . . . . . . . . . . . . . . . . . . . . . . . . . . . . 4.2 Safety Fine-Tuning . . . . . . . . . . . . . . . . . . . . . . . . . . . . . . . . . . . . . . . . . . . 4.3 Red Teaming . . . . . . . . . . . . . . . . . . . . . . . . . . . . . . . . . . . . . . . . . . . . . . . 4.4 Safety Evaluation of Llama 2-Chat . . . . . . . . . . . . . . . . . . . . . . . . . . . . . . . . . . 5.1 Learnings and Observations . . . . . . . . . . . . . . . . . . . . . . . .\n",
            "---\n",
            "In addition to red teaming sessions, we ran a quantitative evaluation on risk from generating malicious code by scoring Code Llamaâs responses to ChatGPTâs (GPT3.5 Turbo) with LLAMAv2 70Bâs safety reward model. For this second quantitative evaluation, we selected prompts that the red teamers generated specifically attempting to solicit malicious code (even though the red teaming included consideration of a broad set of safety risks). These prompts were a mix of clear intent and slightly obfuscated intentions (see some examples in Figure 16. We show a KDE plot of the distribution of the safety score for all models in Figure 7). We observe that Code Llama tends to answer with safer responses; the distribution of safety scores for Code Llama has more weight in the safer part of the range.\n",
            "False refusals. LLMs that are too safe can have a tendency to over-refuse valid claims similar to what was reported after the release of Llama 2. We specifically asked red teamers to test for this behavior. They found some limited evidence of false refusals (when not using a system preprompt). False refusals could also\n",
            "16\n",
            "---\n",
            "# 4.3 Red Teaming\n",
            "Given how broad the capabilities of LLMs are and how varied their training data is, it is insuï¬cient to identify risks solely via ex post facto usage and analysis. Rather, as has been done for other LLMs, we performed various kinds of proactive risk identiï¬cation, colloquially called âred teaming,â based on the term commonly used within computer security. This kind of granular analysis is very important because safety is a long-tail issue, in which even very infrequent edge cases can cause noticeable problems. Even if quantitative scores report good results, these types of qualitative insights allow us to recognize and target speciï¬c patterns in a more comprehensive way.\n",
            "We conducted a series of red teaming with various groups of internal employees, contract workers, and external vendors. These teams included over 350 people, including domain experts in cybersecurity, elec- tion fraud, social media misinformation, legal, policy, civil rights, ethics, software engineering, machine learning, responsible AI, and creative writing. They also included individuals representative of a variety of socioeconomic, gender, ethnicity, and racial demographics.\n",
            "28\n",
            "---\n",
            "Deploying systems at scale with weaker safety guardrails can be exceedingly detrimental and poten- tially enticing for adversaries. While generic interactions between users and these deployed systems might seem safe, the necessity for innovative and systematic red teaming is crucial to identify loop- holes within these systems and play an essential role in enhancing their robustness. As a result, it becomes essential to systematically test and provide assurances of the systemâs robustness before deploying it at a large scale. This is particularly important given the rapid ubiquity of LLMs, their increasing size, and the vast amount of data theyâve processed, which has made conducting safety evaluations even more challenging.\n",
            "Existing safety evaluations, for instance, Shaikh et al. [16] performs a Chain-of-Thought (CoT)- based assessments with prompts constituting of harmful questions with âLetâs think step by step.â as its suffix. Even though effective, we observed that LLMs we study in this work can easily identify such questions, e.g., âHow do I build a bomb?\", and show a high refusal rate (fraction of time model identifies a harmful question and does not provide a harmful answer) by raising ethical warnings, straightaway refusing to answer or answer a related but ethical query (Table 3).\n",
            "---\n",
            "28\n",
            "The red teamers probed our models across a wide range of risk categories (such as criminal planning, human traï¬cking, regulated or controlled substances, sexually explicit content, unqualiï¬ed health or ï¬nancial advice, privacy violations, and more), as well as diï¬erent attack vectors (such as hypothetical questions, malformed/misspelled inputs, or extended dialogues). Additionally, we conducted speciï¬c tests to determine the capabilities of our models to facilitate the production of weapons (e.g. nuclear, biological, chemical, and cyber); ï¬ndings on these topics were marginal and were mitigated. Nonetheless, we will continue our red teaming eï¬orts in this front.\n",
            "To date, all of our red teaming eï¬orts have targeted model outputs in English, but have crucially included non-English prompts and dialogue contexts, as that is a well-known attack vector. In all exercises, participants were given risk category deï¬nitions and were shown just a handful of examples of risky interactions with an LLM. After that, each participant was part of a subteam focused on a particular category of risk or attack vector. After creating each dialogue, the red team participant would annotate various attributes, including risk areas and degree of risk, as captured by a 5-point Likert scale.\u001b[0m\n",
            "Thought:\u001b[32;1m\u001b[1;3m```json\n",
            "{\n",
            "    \"action\": \"Final Answer\",\n",
            "    \"action_input\": \"Based on the information available, extensive red teaming was conducted as part of the safety evaluation process for Llama 2. Over 350 internal and external experts participated in proactive risk identification, probing the model across various risk categories and attack vectors, including non-English prompts. The red teaming aimed to identify vulnerabilities and improve robustness before deployment, covering areas such as malicious content, false refusals, and safety in responses. This comprehensive approach highlights the importance placed on safety and robustness in the development of Llama 2.\"\n",
            "}\n",
            "```\u001b[0m\n",
            "\n",
            "\u001b[1m> Finished chain.\u001b[0m\n",
            "💬 Usuario: was any red teaming done?\n",
            "🤖 Respuesta: Based on the information available, extensive red teaming was conducted as part of the safety evaluation process for Llama 2. Over 350 internal and external experts participated in proactive risk identification, probing the model across various risk categories and attack vectors, including non-English prompts. The red teaming aimed to identify vulnerabilities and improve robustness before deployment, covering areas such as malicious content, false refusals, and safety in responses. This comprehensive approach highlights the importance placed on safety and robustness in the development of Llama 2.\n",
            "🧠 Contextos recuperados:\n",
            "  1. . . . . . . . . . . . . . . . 3.4 RLHF Results . . . . . . . . . . . . . . . . . . . . . . . . . . . . . . . . . . . . . . . . . . . . . . Safety in Pretraining . . . . . . . . . . . . . . . . . . . ....\n",
            "Based on the information available, extensive red teaming was conducted as part of the safety evaluation process for Llama 2. Over 350 internal and external experts participated in proactive risk identification, probing the model across various risk categories and attack vectors, including non-English prompts. The red teaming aimed to identify vulnerabilities and improve robustness before deployment, covering areas such as malicious content, false refusals, and safety in responses. This comprehensive approach highlights the importance placed on safety and robustness in the development of Llama 2.\n"
          ]
        }
      ],
      "source": [
        "out = chat(\"was any red teaming done?\")\n",
        "print(out[\"output\"])"
      ]
    },
    {
      "cell_type": "markdown",
      "metadata": {
        "id": "e9bI9czPtWnl"
      },
      "source": [
        "---"
      ]
    },
    {
      "cell_type": "markdown",
      "metadata": {
        "id": "gNHpkMPoDKEV"
      },
      "source": [
        "## Integrando RAGAS"
      ]
    },
    {
      "cell_type": "markdown",
      "metadata": {
        "id": "IuyybSe5FlZg"
      },
      "source": [
        "Para integrar la evaluación con RAGAS en este pipeline, necesitamos algunas cosas: los contextos recuperados y la salida generada.\n",
        "\n",
        "Veamos que devuelve `out`:"
      ]
    },
    {
      "cell_type": "code",
      "execution_count": 38,
      "metadata": {
        "colab": {
          "base_uri": "https://localhost:8080/"
        },
        "id": "DPJkvJh1DJSD",
        "outputId": "ea3f9902-ca9b-413e-d659-0eabdd097d4e"
      },
      "outputs": [
        {
          "data": {
            "text/plain": [
              "{'output': 'Based on the information available, extensive red teaming was conducted as part of the safety evaluation process for Llama 2. Over 350 internal and external experts participated in proactive risk identification, probing the model across various risk categories and attack vectors, including non-English prompts. The red teaming aimed to identify vulnerabilities and improve robustness before deployment, covering areas such as malicious content, false refusals, and safety in responses. This comprehensive approach highlights the importance placed on safety and robustness in the development of Llama 2.',\n",
              " 'contexts': ['. . . . . . . . . . . . . . . 3.4 RLHF Results . . . . . . . . . . . . . . . . . . . . . . . . . . . . . . . . . . . . . . . . . . . . . . Safety in Pretraining . . . . . . . . . . . . . . . . . . . . . . . . . . . . . . . . . . . . . . . . . . 4.2 Safety Fine-Tuning . . . . . . . . . . . . . . . . . . . . . . . . . . . . . . . . . . . . . . . . . . . 4.3 Red Teaming . . . . . . . . . . . . . . . . . . . . . . . . . . . . . . . . . . . . . . . . . . . . . . . 4.4 Safety Evaluation of Llama 2-Chat . . . . . . . . . . . . . . . . . . . . . . . . . . . . . . . . . . 5.1 Learnings and Observations . . . . . . . . . . . . . . . . . . . . . . . .\\n---\\nIn addition to red teaming sessions, we ran a quantitative evaluation on risk from generating malicious code by scoring Code Llamaâ\\x80\\x99s responses to ChatGPTâ\\x80\\x99s (GPT3.5 Turbo) with LLAMAv2 70Bâ\\x80\\x99s safety reward model. For this second quantitative evaluation, we selected prompts that the red teamers generated specifically attempting to solicit malicious code (even though the red teaming included consideration of a broad set of safety risks). These prompts were a mix of clear intent and slightly obfuscated intentions (see some examples in Figure 16. We show a KDE plot of the distribution of the safety score for all models in Figure 7). We observe that Code Llama tends to answer with safer responses; the distribution of safety scores for Code Llama has more weight in the safer part of the range.\\nFalse refusals. LLMs that are too safe can have a tendency to over-refuse valid claims similar to what was reported after the release of Llama 2. We specifically asked red teamers to test for this behavior. They found some limited evidence of false refusals (when not using a system preprompt). False refusals could also\\n16\\n---\\n# 4.3 Red Teaming\\nGiven how broad the capabilities of LLMs are and how varied their training data is, it is insuï¬\\x83cient to identify risks solely via ex post facto usage and analysis. Rather, as has been done for other LLMs, we performed various kinds of proactive risk identiï¬\\x81cation, colloquially called â\\x80\\x9cred teaming,â\\x80\\x9c based on the term commonly used within computer security. This kind of granular analysis is very important because safety is a long-tail issue, in which even very infrequent edge cases can cause noticeable problems. Even if quantitative scores report good results, these types of qualitative insights allow us to recognize and target speciï¬\\x81c patterns in a more comprehensive way.\\nWe conducted a series of red teaming with various groups of internal employees, contract workers, and external vendors. These teams included over 350 people, including domain experts in cybersecurity, elec- tion fraud, social media misinformation, legal, policy, civil rights, ethics, software engineering, machine learning, responsible AI, and creative writing. They also included individuals representative of a variety of socioeconomic, gender, ethnicity, and racial demographics.\\n28\\n---\\nDeploying systems at scale with weaker safety guardrails can be exceedingly detrimental and poten- tially enticing for adversaries. While generic interactions between users and these deployed systems might seem safe, the necessity for innovative and systematic red teaming is crucial to identify loop- holes within these systems and play an essential role in enhancing their robustness. As a result, it becomes essential to systematically test and provide assurances of the systemâ\\x80\\x99s robustness before deploying it at a large scale. This is particularly important given the rapid ubiquity of LLMs, their increasing size, and the vast amount of data theyâ\\x80\\x99ve processed, which has made conducting safety evaluations even more challenging.\\nExisting safety evaluations, for instance, Shaikh et al. [16] performs a Chain-of-Thought (CoT)- based assessments with prompts constituting of harmful questions with â\\x80\\x9cLetâ\\x80\\x99s think step by step.â\\x80\\x9d as its suffix. Even though effective, we observed that LLMs we study in this work can easily identify such questions, e.g., â\\x80\\x9cHow do I build a bomb?\", and show a high refusal rate (fraction of time model identifies a harmful question and does not provide a harmful answer) by raising ethical warnings, straightaway refusing to answer or answer a related but ethical query (Table 3).\\n---\\n28\\nThe red teamers probed our models across a wide range of risk categories (such as criminal planning, human traï¬\\x83cking, regulated or controlled substances, sexually explicit content, unqualiï¬\\x81ed health or ï¬\\x81nancial advice, privacy violations, and more), as well as diï¬\\x80erent attack vectors (such as hypothetical questions, malformed/misspelled inputs, or extended dialogues). Additionally, we conducted speciï¬\\x81c tests to determine the capabilities of our models to facilitate the production of weapons (e.g. nuclear, biological, chemical, and cyber); ï¬\\x81ndings on these topics were marginal and were mitigated. Nonetheless, we will continue our red teaming eï¬\\x80orts in this front.\\nTo date, all of our red teaming eï¬\\x80orts have targeted model outputs in English, but have crucially included non-English prompts and dialogue contexts, as that is a well-known attack vector. In all exercises, participants were given risk category deï¬\\x81nitions and were shown just a handful of examples of risky interactions with an LLM. After that, each participant was part of a subteam focused on a particular category of risk or attack vector. After creating each dialogue, the red team participant would annotate various attributes, including risk areas and degree of risk, as captured by a 5-point Likert scale.'],\n",
              " 'intermediate_steps': [(AgentAction(tool='arxiv_search', tool_input='Llama 2 red teaming safety evaluation', log='```json\\n{\\n    \"action\": \"arxiv_search\",\\n    \"action_input\": \"Llama 2 red teaming safety evaluation\"\\n}\\n```'),\n",
              "   '. . . . . . . . . . . . . . . 3.4 RLHF Results . . . . . . . . . . . . . . . . . . . . . . . . . . . . . . . . . . . . . . . . . . . . . . Safety in Pretraining . . . . . . . . . . . . . . . . . . . . . . . . . . . . . . . . . . . . . . . . . . 4.2 Safety Fine-Tuning . . . . . . . . . . . . . . . . . . . . . . . . . . . . . . . . . . . . . . . . . . . 4.3 Red Teaming . . . . . . . . . . . . . . . . . . . . . . . . . . . . . . . . . . . . . . . . . . . . . . . 4.4 Safety Evaluation of Llama 2-Chat . . . . . . . . . . . . . . . . . . . . . . . . . . . . . . . . . . 5.1 Learnings and Observations . . . . . . . . . . . . . . . . . . . . . . . .\\n---\\nIn addition to red teaming sessions, we ran a quantitative evaluation on risk from generating malicious code by scoring Code Llamaâ\\x80\\x99s responses to ChatGPTâ\\x80\\x99s (GPT3.5 Turbo) with LLAMAv2 70Bâ\\x80\\x99s safety reward model. For this second quantitative evaluation, we selected prompts that the red teamers generated specifically attempting to solicit malicious code (even though the red teaming included consideration of a broad set of safety risks). These prompts were a mix of clear intent and slightly obfuscated intentions (see some examples in Figure 16. We show a KDE plot of the distribution of the safety score for all models in Figure 7). We observe that Code Llama tends to answer with safer responses; the distribution of safety scores for Code Llama has more weight in the safer part of the range.\\nFalse refusals. LLMs that are too safe can have a tendency to over-refuse valid claims similar to what was reported after the release of Llama 2. We specifically asked red teamers to test for this behavior. They found some limited evidence of false refusals (when not using a system preprompt). False refusals could also\\n16\\n---\\n# 4.3 Red Teaming\\nGiven how broad the capabilities of LLMs are and how varied their training data is, it is insuï¬\\x83cient to identify risks solely via ex post facto usage and analysis. Rather, as has been done for other LLMs, we performed various kinds of proactive risk identiï¬\\x81cation, colloquially called â\\x80\\x9cred teaming,â\\x80\\x9c based on the term commonly used within computer security. This kind of granular analysis is very important because safety is a long-tail issue, in which even very infrequent edge cases can cause noticeable problems. Even if quantitative scores report good results, these types of qualitative insights allow us to recognize and target speciï¬\\x81c patterns in a more comprehensive way.\\nWe conducted a series of red teaming with various groups of internal employees, contract workers, and external vendors. These teams included over 350 people, including domain experts in cybersecurity, elec- tion fraud, social media misinformation, legal, policy, civil rights, ethics, software engineering, machine learning, responsible AI, and creative writing. They also included individuals representative of a variety of socioeconomic, gender, ethnicity, and racial demographics.\\n28\\n---\\nDeploying systems at scale with weaker safety guardrails can be exceedingly detrimental and poten- tially enticing for adversaries. While generic interactions between users and these deployed systems might seem safe, the necessity for innovative and systematic red teaming is crucial to identify loop- holes within these systems and play an essential role in enhancing their robustness. As a result, it becomes essential to systematically test and provide assurances of the systemâ\\x80\\x99s robustness before deploying it at a large scale. This is particularly important given the rapid ubiquity of LLMs, their increasing size, and the vast amount of data theyâ\\x80\\x99ve processed, which has made conducting safety evaluations even more challenging.\\nExisting safety evaluations, for instance, Shaikh et al. [16] performs a Chain-of-Thought (CoT)- based assessments with prompts constituting of harmful questions with â\\x80\\x9cLetâ\\x80\\x99s think step by step.â\\x80\\x9d as its suffix. Even though effective, we observed that LLMs we study in this work can easily identify such questions, e.g., â\\x80\\x9cHow do I build a bomb?\", and show a high refusal rate (fraction of time model identifies a harmful question and does not provide a harmful answer) by raising ethical warnings, straightaway refusing to answer or answer a related but ethical query (Table 3).\\n---\\n28\\nThe red teamers probed our models across a wide range of risk categories (such as criminal planning, human traï¬\\x83cking, regulated or controlled substances, sexually explicit content, unqualiï¬\\x81ed health or ï¬\\x81nancial advice, privacy violations, and more), as well as diï¬\\x80erent attack vectors (such as hypothetical questions, malformed/misspelled inputs, or extended dialogues). Additionally, we conducted speciï¬\\x81c tests to determine the capabilities of our models to facilitate the production of weapons (e.g. nuclear, biological, chemical, and cyber); ï¬\\x81ndings on these topics were marginal and were mitigated. Nonetheless, we will continue our red teaming eï¬\\x80orts in this front.\\nTo date, all of our red teaming eï¬\\x80orts have targeted model outputs in English, but have crucially included non-English prompts and dialogue contexts, as that is a well-known attack vector. In all exercises, participants were given risk category deï¬\\x81nitions and were shown just a handful of examples of risky interactions with an LLM. After that, each participant was part of a subteam focused on a particular category of risk or attack vector. After creating each dialogue, the red team participant would annotate various attributes, including risk areas and degree of risk, as captured by a 5-point Likert scale.')]}"
            ]
          },
          "execution_count": 38,
          "metadata": {},
          "output_type": "execute_result"
        }
      ],
      "source": [
        "out"
      ]
    },
    {
      "cell_type": "markdown",
      "metadata": {
        "id": "qjFyIBvFLcIo"
      },
      "source": [
        "Al inicializar nuestro agente con `return_intermediate_steps=True`, estamos recibiendo automáticamente los pasos intermedios (tuplas de acción y observación) que el agente ejecuta para generar la respuesta final. Esos pasos incluyen la salida del `arxiv_search`, que podemos utilizar para evaluar la fase de recuperación de contexto en nuestro pipeline usando RAGAS."
      ]
    },
    {
      "cell_type": "markdown",
      "metadata": {
        "id": "UwCU9B1rOkZ9"
      },
      "source": [
        "Extraemos los contextos recuperados de esta forma:"
      ]
    },
    {
      "cell_type": "code",
      "execution_count": 41,
      "metadata": {
        "colab": {
          "base_uri": "https://localhost:8080/"
        },
        "id": "He3I1jAGOnI9",
        "outputId": "ad4a854f-0381-4637-dd2a-f9459f07403c"
      },
      "outputs": [
        {
          "name": "stdout",
          "output_type": "stream",
          "text": [
            ". . . . . . . . . . . . . . . 3.4 RLHF Results . . . . . . . . . . . . . . . . . . . . . . . . . . . . . . . . . . . . . . . . . . . . . . Safety in Pretraining . . . . . . . . . . . . . . . . . . . . . . . . . . . . . . . . . . . . . . . . . . 4.2 Safety Fine-Tuning . . . . . . . . . . . . . . . . . . . . . . . . . . . . . . . . . . . . . . . . . . . 4.3 Red Teaming . . . . . . . . . . . . . . . . . . . . . . . . . . . . . . . . . . . . . . . . . . . . . . . 4.4 Safety Evaluation of Llama 2-Chat . . . . . . . . . . . . . . . . . . . . . . . . . . . . . . . . . . 5.1 Learnings and Observations . . . . . . . . . . . . . . . . . . . . . . . .\n",
            "---\n",
            "In addition to red teaming sessions, we ran a quantitative evaluation on risk from generating malicious code by scoring Code Llamaâs responses to ChatGPTâs (GPT3.5 Turbo) with LLAMAv2 70Bâs safety reward model. For this second quantitative evaluation, we selected prompts that the red teamers generated specifically attempting to solicit malicious code (even though the red teaming included consideration of a broad set of safety risks). These prompts were a mix of clear intent and slightly obfuscated intentions (see some examples in Figure 16. We show a KDE plot of the distribution of the safety score for all models in Figure 7). We observe that Code Llama tends to answer with safer responses; the distribution of safety scores for Code Llama has more weight in the safer part of the range.\n",
            "False refusals. LLMs that are too safe can have a tendency to over-refuse valid claims similar to what was reported after the release of Llama 2. We specifically asked red teamers to test for this behavior. They found some limited evidence of false refusals (when not using a system preprompt). False refusals could also\n",
            "16\n",
            "---\n",
            "# 4.3 Red Teaming\n",
            "Given how broad the capabilities of LLMs are and how varied their training data is, it is insuï¬cient to identify risks solely via ex post facto usage and analysis. Rather, as has been done for other LLMs, we performed various kinds of proactive risk identiï¬cation, colloquially called âred teaming,â based on the term commonly used within computer security. This kind of granular analysis is very important because safety is a long-tail issue, in which even very infrequent edge cases can cause noticeable problems. Even if quantitative scores report good results, these types of qualitative insights allow us to recognize and target speciï¬c patterns in a more comprehensive way.\n",
            "We conducted a series of red teaming with various groups of internal employees, contract workers, and external vendors. These teams included over 350 people, including domain experts in cybersecurity, elec- tion fraud, social media misinformation, legal, policy, civil rights, ethics, software engineering, machine learning, responsible AI, and creative writing. They also included individuals representative of a variety of socioeconomic, gender, ethnicity, and racial demographics.\n",
            "28\n",
            "---\n",
            "Deploying systems at scale with weaker safety guardrails can be exceedingly detrimental and poten- tially enticing for adversaries. While generic interactions between users and these deployed systems might seem safe, the necessity for innovative and systematic red teaming is crucial to identify loop- holes within these systems and play an essential role in enhancing their robustness. As a result, it becomes essential to systematically test and provide assurances of the systemâs robustness before deploying it at a large scale. This is particularly important given the rapid ubiquity of LLMs, their increasing size, and the vast amount of data theyâve processed, which has made conducting safety evaluations even more challenging.\n",
            "Existing safety evaluations, for instance, Shaikh et al. [16] performs a Chain-of-Thought (CoT)- based assessments with prompts constituting of harmful questions with âLetâs think step by step.â as its suffix. Even though effective, we observed that LLMs we study in this work can easily identify such questions, e.g., âHow do I build a bomb?\", and show a high refusal rate (fraction of time model identifies a harmful question and does not provide a harmful answer) by raising ethical warnings, straightaway refusing to answer or answer a related but ethical query (Table 3).\n",
            "---\n",
            "28\n",
            "The red teamers probed our models across a wide range of risk categories (such as criminal planning, human traï¬cking, regulated or controlled substances, sexually explicit content, unqualiï¬ed health or ï¬nancial advice, privacy violations, and more), as well as diï¬erent attack vectors (such as hypothetical questions, malformed/misspelled inputs, or extended dialogues). Additionally, we conducted speciï¬c tests to determine the capabilities of our models to facilitate the production of weapons (e.g. nuclear, biological, chemical, and cyber); ï¬ndings on these topics were marginal and were mitigated. Nonetheless, we will continue our red teaming eï¬orts in this front.\n",
            "To date, all of our red teaming eï¬orts have targeted model outputs in English, but have crucially included non-English prompts and dialogue contexts, as that is a well-known attack vector. In all exercises, participants were given risk category deï¬nitions and were shown just a handful of examples of risky interactions with an LLM. After that, each participant was part of a subteam focused on a particular category of risk or attack vector. After creating each dialogue, the red team participant would annotate various attributes, including risk areas and degree of risk, as captured by a 5-point Likert scale.\n"
          ]
        }
      ],
      "source": [
        "print(out[\"intermediate_steps\"][0][1])"
      ]
    },
    {
      "cell_type": "markdown",
      "metadata": {
        "id": "wuhMvGdBOnvu"
      },
      "source": [
        "## Evaluación"
      ]
    },
    {
      "cell_type": "markdown",
      "metadata": {
        "id": "bczg8jREMwLw"
      },
      "source": [
        "Para evaluar con RAGAS necesitamos un conjunto de datos que incluya lo siguiente para cada ejemplo:\n",
        "\n",
        "`question`: la pregunta que se hace al agente,\n",
        "\n",
        "`contexts`: los contextos identiﬁcados (recuperados por la herramienta, como arxiv_search),\n",
        "\n",
        "`answer`: la respuesta generada por el agente,\n",
        "\n",
        "`ground_truth`: la respuesta correcta esperada (“ground truth”) para esa pregunta."
      ]
    },
    {
      "cell_type": "code",
      "execution_count": 42,
      "metadata": {
        "colab": {
          "base_uri": "https://localhost:8080/",
          "height": 152,
          "referenced_widgets": [
            "863e4257923b4cbebb58d743e7183c4f",
            "2224f5d0fc844021959c2af828e2f585",
            "0a78fba543d543cbac436e27e7aa71c1",
            "6ca105565301434093f5e23c7b7d66e9",
            "4cd10b8a91b1496b80c889a9d4acc590",
            "d0d606b8d2944a2892cd662126c4d809",
            "e17b7b79878e4e90b209b2970345575d",
            "8627743220b7417ca3485505da50c867",
            "ff165e061fab4b2da77cd58249d15ffe",
            "0926a4d528334d60b69b58f630973f75",
            "ba093531fbf84b82bc55574ebea2bec9",
            "42887df65980433ca54cb87a5861025a",
            "1f8f2db40c0e4aca9915d197581b0aae",
            "1a20c8704bdb43c7987db193e7dd9a8d",
            "c084482f54a344d88f41ca880476f17e",
            "425f05bbffe84e519550218f97bb4a5f",
            "67f7b83c028c43229697597e7e67e67d",
            "e6f41e1678d44d65af4f86d2f868f620",
            "3f6749cc0e13470bb83e2ed77c9f5cc7",
            "223831fe61f549a98b24070d824c461a",
            "02a95248d9b14b858170f69ce1b076e8",
            "0f93bb430a664d69acee7f01ee8405cd"
          ]
        },
        "id": "Ee-LezlRGSsu",
        "outputId": "7603f785-fc5f-4904-b14d-8d54dae8b965"
      },
      "outputs": [
        {
          "name": "stderr",
          "output_type": "stream",
          "text": [
            "c:\\Users\\aguro\\AppData\\Local\\Programs\\Python\\Python312\\Lib\\site-packages\\huggingface_hub\\file_download.py:143: UserWarning: `huggingface_hub` cache-system uses symlinks by default to efficiently store duplicated files but your machine does not support them in C:\\Users\\aguro\\.cache\\huggingface\\hub\\datasets--aurelio-ai--ai-arxiv2-ragas-mixtral. Caching files will still work but in a degraded version that might require more space on your disk. This warning can be disabled by setting the `HF_HUB_DISABLE_SYMLINKS_WARNING` environment variable. For more details, see https://huggingface.co/docs/huggingface_hub/how-to-cache#limitations.\n",
            "To support symlinks on Windows, you either need to activate Developer Mode or to run Python as an administrator. In order to activate developer mode, see this article: https://docs.microsoft.com/en-us/windows/apps/get-started/enable-your-device-for-development\n",
            "  warnings.warn(message)\n",
            "Generating train split: 100%|██████████| 51/51 [00:00<00:00, 3262.11 examples/s]\n"
          ]
        },
        {
          "data": {
            "text/plain": [
              "Dataset({\n",
              "    features: ['question', 'ground_truth_context', 'ground_truth', 'question_type', 'episode_done'],\n",
              "    num_rows: 51\n",
              "})"
            ]
          },
          "execution_count": 42,
          "metadata": {},
          "output_type": "execute_result"
        }
      ],
      "source": [
        "ragas_data = load_dataset(\"aurelio-ai/ai-arxiv2-ragas-mixtral\", split=\"train\")\n",
        "ragas_data"
      ]
    },
    {
      "cell_type": "code",
      "execution_count": 43,
      "metadata": {
        "colab": {
          "base_uri": "https://localhost:8080/"
        },
        "id": "DsSjPe0MNRi1",
        "outputId": "e579413b-f555-4a2d-bbeb-dba91723b716"
      },
      "outputs": [
        {
          "data": {
            "text/plain": [
              "{'question': 'What is the impact of encoding the input prompt on inference speed in generative inference?',\n",
              " 'ground_truth_context': ['- This technique works particularly well when processing large batches of data, during train-\\ning Pudipeddi et al. (2020); Ren et al. (2021) or large-batch non-interactive inference Aminabadi et al.\\n(2022); Sheng et al. (2023), where each layer processes a lot of tokens each time the layer is loaded\\nfrom RAM.\\n- In turn, when doing interactive inference (e.g. as a chat assistants), offloading works\\nsignificantly slower than on-device inference.\\n- The generative inference workload consists of two phases: 1) encoding the input prompt and 2)\\ngenerating tokens conditioned on that prompt.\\n- The key difference between these two phases is that\\nprompt tokens are encoded in parallel (layer-by-layer), whereas the generation runs sequentially\\n(token-by-token and layer-by-layer).\\n- In general, phase 1 works relatively well with existing Mixture-\\nof-Experts algorithms, since each layer can only be loaded once for the entire prompt.\\n- In turn, when\\ngenerating tokens, one must load layer once per each token generated.\\n- In practice, this means that\\ninference speed is limited by how fast one can fetch parameters from system memory.\\n- Below, we look for patterns in how the MoE model loads its experts and propose ways to exploit\\nthese patterns to speed up inference time.\\n- As we discussed earlier in Section 2.1, Mixture-of-Experts language models were often observed to\\nassign individual experts to distinct sub-tasks.\\n- However, this does not mean that the model uses the\\nsame expert over long stretches of tokens.\\n- Instead, some experts are active in short sequences of 2-4\\ntokens, while others are often used with “gaps”, as shown in Figure 1.\\n- To take advantage of this pattern, we can keep active experts in GPU memory as a “cache” for\\nfuture tokens.\\n- If the same experts are activated again in future, they will be available instantaneously.\\n- While LRU caching can reduce the average expert loading time, most of the inference time is still\\nspent waiting for the next expert to be loaded.\\n- The reason behind this is that, unlike with dense\\nmodels, MoE offloading cannot effectively overlap expert loading with computation.\\n- For regular (dense) models, this architecture allows for efficient offloading schedule that pre-loads\\nthe next transformer layer ahead of time, while the previous layer is still running.\\n- Unfortunately,\\nthis schedule is no longer possible for Mixture-of-Experts models, where MoE MLP layers choose\\nwhich experts to load just-in-time for computation.'],\n",
              " 'ground_truth': ['The encoding of the input prompt has an impact on inference speed in generative inference. During the encoding phase, prompt tokens are encoded in parallel, layer-by-layer, which works relatively well with existing Mixture-of-Experts algorithms. Each layer only needs to be loaded once for the entire prompt. However, during the generation phase, tokens are generated sequentially, and each token requires loading the layer once. This means that inference speed is limited by how fast the parameters can be fetched from system memory. The MoE model loads its experts in a pattern where some experts are active in short sequences of 2-4 tokens, while others are used with \"gaps\". To exploit this pattern and speed up inference time, active experts can be kept in GPU memory as a cache for future tokens. If the same experts are activated again in the future, they will be available instantaneously. However, even with caching, most of the inference time is still spent waiting for the next expert to be loaded because MoE offloading cannot effectively overlap expert loading with computation like dense models can.'],\n",
              " 'question_type': 'conditional',\n",
              " 'episode_done': False}"
            ]
          },
          "execution_count": 43,
          "metadata": {},
          "output_type": "execute_result"
        }
      ],
      "source": [
        "ragas_data[0]"
      ]
    },
    {
      "cell_type": "markdown",
      "metadata": {
        "id": "sU4QrqiPOF-w"
      },
      "source": [
        "Primero iteramos por las preguntas de nuestro dataset de evualiacion y le pedimos a nuestro agente responderlas:"
      ]
    },
    {
      "cell_type": "code",
      "execution_count": 44,
      "metadata": {
        "colab": {
          "base_uri": "https://localhost:8080/",
          "height": 49,
          "referenced_widgets": [
            "1d16e611b08f421299a126362d76cdc4",
            "6c46d4bb317b4d49ae70e1a0be044442",
            "14fe67648c60413f882f1d62efd2ffa7",
            "40bf35b701e2481b81de737c45090f7e",
            "26c5f9fcb6994125ad1a5077a9196aac",
            "53ad7c44377245fc9a4ce5112718c0c5",
            "060ce0847b474411ba1adc420ea0a6f0",
            "14c981775aae4cbb8b2deef325b7c88e",
            "9bf01738d11648d7bd9e3389d08da081",
            "ab7894a65e0e4ef8b0af1d413769e144",
            "84b6075b7c7748a18c1b526ef92c4c47"
          ]
        },
        "id": "rfK4Y2kGNUUD",
        "outputId": "a5359601-0846-4bcb-ee41-b0021a32efd0"
      },
      "outputs": [
        {
          "name": "stderr",
          "output_type": "stream",
          "text": [
            "  0%|          | 0/5 [00:00<?, ?it/s]"
          ]
        },
        {
          "name": "stdout",
          "output_type": "stream",
          "text": [
            "\n",
            "\n",
            "\u001b[1m> Entering new AgentExecutor chain...\u001b[0m\n",
            "\u001b[32;1m\u001b[1;3m```json\n",
            "{\n",
            "    \"action\": \"arxiv_search\",\n",
            "    \"action_input\": \"impact of encoding input prompt on inference speed in generative models\"\n",
            "}\n",
            "```\u001b[0m\n",
            "Observation: \u001b[36;1m\u001b[1;3mThe generative inference workload consists of two phases: 1) encoding the input prompt and 2) generating tokens conditioned on that prompt. The key difference between these two phases is that prompt tokens are encoded in parallel (layer-by-layer), whereas the generation runs sequentially (token-by-token and layer-by-layer). In general, phase 1 works relatively well with existing Mixture- of-Experts algorithms, since each layer can only be loaded once for the entire prompt. In turn, when generating tokens, one must load layer once per each token generated. In practice, this means that inference speed is limited by how fast one can fetch parameters from system memory.\n",
            "Below, we look for patterns in how the MoE model loads its experts and propose ways to exploit these patterns to speed up inference time.\n",
            "4To learn more about these methods, please refer to surveys such as Gholami et al. (2021); Liang et al. (2021) 5As opposed to running a processing a large batch of texts over many seconds, as in Sheng et al. (2023)\n",
            "3\n",
            "Selected experts for Mixtral-8x7B-Instruct woe 0 (top) and 15 ae =n a oa ao a âme: a n: ee Layer 15 expert # Layer 0 expert # MAUR STARR O However about |= and 4 training data owerful language model based trained Trans former f architecture\n",
            "---\n",
            "els (Brown et al., 2020; Zhou et al., 2022; Muennighoff, 2022; Babe et al., 2023). To ensure fair evaluation we use the prompting format put forth by the respective authors of the models and a simple intuitive prompt for models without a canonical prompt (see Appendix N). However, this may put models without a canonical prompt recommendation (e.g. BLOOMZ, GPT-4) at a slight disadvantage. OCTOCODER and OCTOGEEX perform best when prompted using the same format we use during training (Figure 17) and we recommend always using this format at inference. (2) Processing: Models may accidentally impair otherwise correct code by e.g. including a natural language explanation in their output. We largely circumvent this issue through the use of strict stopping criteria and careful postprocessing (e.g. for GPT-4 we check if it has enclosed the code in backticks, and if so, extract only the inner part of the backticks discarding its explanations). (3) Execution: When executing code to compute pass@k, it is important that the generated code matches the installed programming language version. Models may inadvertently use expressions from\n",
            "---\n",
            "Figure 4: Modulating the input context length of the multi-document question answering example presented in Figure 2. Adding documents that do not contain the answer increases the length of the input context, but does not affect the desired output.\n",
            "Our experimental setup is similar to the needle- in-a-haystack experiments of Ivgi et al. (2023), who compare question answering performance when the relevant paragraph is placed (i) at the beginning of the input or (ii) a random position within the in- put. They find that encoder-decoder models have significantly higher performance when relevant in- formation is placed at the start of the input context. In contrast, we study finer-grained changes in the position of relevant information.\n",
            "# 2.2 Models\n",
            "We analyze several state-of-the-art open and closed language models. We use greedy decoding when generating outputs and leave exploration of other decoding methods to future work. We use a stan- dard set of prompts for each model (Figure 2).\n",
            "---\n",
            "For instance, after training the GPT-2 model, we observed that the resulting soft prompt merely replicates the prompt tokens used during initialization, essentially duplicating the manual prompt without additional learning. In con- trast, when decoding the virtual token vectors into words utilizing the LLaMA-7B and Vicuna-7B, we discovered that these models not only retain the initial prompt tokens but also acquire additional symbols and representations associated with relevant text, such as \"query,\" \"rewrite\", \"argument\", \"enhance\" and \"adding\", indicating parameters ð does learn task-specific knowledge.\n",
            "---\n",
            "Instruction tuning prompts\n",
            "A Alpaca prompt B. Our prompt .No prompt Below isan instruction that {Instruction} {instruction} dserbes a task, White a response that appropriately completes the uy âHt Response: {response} â#8 Inetruction: Ce) {instruction} âHt Response: {response}\n",
            "Figure 3: Comparative illustration of instruction tuning prompts. A. Alpaca prompt, a wrapper around instruction, B. only Alpaca sufï¬x, C. no prompt, the baseline\n",
            "Stage 1: Classifier training & LM prediction training instruction IFS Stage 2: Evaluation binary inference classifier LM response\n",
            "Figure 2: IFS training and evaluation pipeline\n",
            "The results presented in Table 6 show that vari- ants of both prompts are equally effective. If we compare it with the baseline (C), we see that for all models the improvement of IFS is in the range 0.5â0.6. It turns out that for Large Language Models (LLMs) a single prompt change can ef- fectively encourage models to follow instructions, reaching performance levels comparable to sev- eral publicly available instruct models. We did not test n-shot prompting, which can possibly further improve results.\u001b[0m\n",
            "Thought:"
          ]
        },
        {
          "name": "stderr",
          "output_type": "stream",
          "text": [
            " 20%|██        | 1/5 [00:04<00:18,  4.74s/it]"
          ]
        },
        {
          "name": "stdout",
          "output_type": "stream",
          "text": [
            "\u001b[32;1m\u001b[1;3m```json\n",
            "{\n",
            "    \"action\": \"Final Answer\",\n",
            "    \"action_input\": \"The impact of encoding the input prompt on inference speed in generative models is significant. Encoding the prompt involves processing the entire input in parallel, which is relatively efficient, especially with techniques like Mixture-of-Experts. However, during token generation, the model must process each token sequentially, loading parameters repeatedly, which can slow down inference. The speed is thus limited by how quickly system memory can fetch parameters, and optimizing expert loading patterns can help improve inference speed.\"\n",
            "}\n",
            "```\u001b[0m\n",
            "\n",
            "\u001b[1m> Finished chain.\u001b[0m\n",
            "💬 Usuario: What is the impact of encoding the input prompt on inference speed in generative inference?\n",
            "🤖 Respuesta: The impact of encoding the input prompt on inference speed in generative models is significant. Encoding the prompt involves processing the entire input in parallel, which is relatively efficient, especially with techniques like Mixture-of-Experts. However, during token generation, the model must process each token sequentially, loading parameters repeatedly, which can slow down inference. The speed is thus limited by how quickly system memory can fetch parameters, and optimizing expert loading patterns can help improve inference speed.\n",
            "🧠 Contextos recuperados:\n",
            "  1. The generative inference workload consists of two phases: 1) encoding the input prompt and 2) generating tokens conditioned on that prompt. The key difference between these two phases is that prompt t...\n",
            "\n",
            "\n",
            "\u001b[1m> Entering new AgentExecutor chain...\u001b[0m\n",
            "\u001b[32;1m\u001b[1;3m```json\n",
            "{\n",
            "    \"action\": \"arxiv_search\",\n",
            "    \"action_input\": \"impact of token generation on inference speed in generative models\"\n",
            "}\n",
            "```\u001b[0m\n",
            "Observation: \u001b[36;1m\u001b[1;3minference latency since the generation of tokens cannot be parallelized. There is a bunch of literature addressing the first two axes: large model size (Xiao et al., 2022; Frantar et al., 2022; Lin et al., 2023; Sheng et al., 2023; Wang et al., 2021) and attention operation (Kitaev et al., 2020; Wang et al., 2020; Dao et al., 2022; Zaheer et al., 2020; Chen et al., 2023b). These works either compress/redesign the model (Xiao et al., 2022; Frantar et al., 2022; Lin et al., 2023; Kitaev et al., 2020; Wang et al., 2020; Dao et al., 2022; Zaheer et al., 2020) or redesign the serving system (Sheng et al., 2023; Chen et al., 2023b) and hardware (Wang et al., 2021).\n",
            "---\n",
            "â¢ The average number of generated tokens outputted by LLMs per query. Much like the assessment of average prompt tokens, this metric provides an evaluation of computational efficiency, but from a token generation perspective. Instead of focusing on the number of tokens in the prompt, it takes into account the number of tokens generated. This is particularly significant because transformer-based generative LLMs produce content token-by-token, with each subsequent token relying on the gen- eration of preceding ones. Consequently, an increase in number of generated tokens leads to a corresponding increase in the computational cost, as each additional generated token implies another LLM forward inference. In fact, OpenAI applies a pricing structure wherein the cost for the number of generated tokens is twice that of the number of prompt tokens for their LLM APIs 1. This underscores the substantial impact that generated tokens can have on computational expenses.\n",
            "---\n",
            "The benefits are three-fold. First, with all generated solu- tions existing within a shared context, thereâs no need for in- dividual model queries for each solution evaluation. Second, while it may seem counterintuitive initially, isolated token or token group probabilities might not always yield meaning- ful choices. A simple illustration is found in Fig. 4. When evaluated independently, the second-most probable token for our inaugural number is â1âânot qualifying as prime. But, when generation remains unbroken, the derived sequence is correct. This incongruence points towards the restrictive na- ture of the Markov property in sequence modeling. Core to our perspective is the premise that for sequential tasks like algorithmic search, LLMs are more adept at generating en- tire sequences than intermittently pausing and re-initiating the token sampling process.\n",
            "---\n",
            "The generative inference workload consists of two phases: 1) encoding the input prompt and 2) generating tokens conditioned on that prompt. The key difference between these two phases is that prompt tokens are encoded in parallel (layer-by-layer), whereas the generation runs sequentially (token-by-token and layer-by-layer). In general, phase 1 works relatively well with existing Mixture- of-Experts algorithms, since each layer can only be loaded once for the entire prompt. In turn, when generating tokens, one must load layer once per each token generated. In practice, this means that inference speed is limited by how fast one can fetch parameters from system memory.\n",
            "Below, we look for patterns in how the MoE model loads its experts and propose ways to exploit these patterns to speed up inference time.\n",
            "4To learn more about these methods, please refer to surveys such as Gholami et al. (2021); Liang et al. (2021) 5As opposed to running a processing a large batch of texts over many seconds, as in Sheng et al. (2023)\n",
            "3\n",
            "Selected experts for Mixtral-8x7B-Instruct woe 0 (top) and 15 ae =n a oa ao a âme: a n: ee Layer 15 expert # Layer 0 expert # MAUR STARR O However about |= and 4 training data owerful language model based trained Trans former f architecture\n",
            "---\n",
            "# INTRODUCTION\n",
            "Large language models (LLMs) (Brown et al., 2020; Touvron et al., 2023a; Du et al., 2022; OpenAI, 2023; Zheng et al., 2023) have shown exceptional performance in natural language processing and chatbot systems. However, the inference process of the state-of-the-art LLMs is slow, hindering their interactive use. For example, it takes 22 seconds for Claude (Anthropic, 2023) (accessed through Slack API) and 43 seconds for Vicuna-33B V1.3 (a 33B LLaMA-based model, running locally on one NVIDIA A100 GPU) to answer the question in Fig. 1.\n",
            "We conclude three major causes of LLMsâ slow inference: (1) A large model size requires a large amount of memory, memory access, and computation. For example, the FP16 weights of 175B GPT- 3 take 350GB memory, which means at least 5Ã80GB A100 GPUs are needed to keep the model in GPU memory. Even with enough GPUs, the heavy memory access and computation slow down the inference. (2) The attention operation in the prevailing transformer architecture is I/O bounded and has a quadratic memory and computation complexity in sequence length. (3) The sequential decoding approach in inference generates tokens one by one. This approach introduces a significant\u001b[0m\n",
            "Thought:"
          ]
        },
        {
          "name": "stderr",
          "output_type": "stream",
          "text": [
            " 40%|████      | 2/5 [00:09<00:13,  4.56s/it]"
          ]
        },
        {
          "name": "stdout",
          "output_type": "stream",
          "text": [
            "\u001b[32;1m\u001b[1;3m```json\n",
            "{\n",
            "    \"action\": \"Final Answer\",\n",
            "    \"action_input\": \"Generating tokens sequentially during inference significantly impacts speed because each token must be produced one after the other, rather than in parallel. This token-by-token process introduces latency, as each new token depends on the previous ones, making the overall inference slower. Additionally, the process involves repeatedly loading model parameters for each token, which can further slow down inference depending on system memory access speeds. Optimizations like model compression, efficient hardware, and improved loading strategies can help mitigate these delays.\"\n",
            "}\n",
            "```\u001b[0m\n",
            "\n",
            "\u001b[1m> Finished chain.\u001b[0m\n",
            "💬 Usuario: How does generating tokens affect the inference speed in generative inference?\n",
            "🤖 Respuesta: Generating tokens sequentially during inference significantly impacts speed because each token must be produced one after the other, rather than in parallel. This token-by-token process introduces latency, as each new token depends on the previous ones, making the overall inference slower. Additionally, the process involves repeatedly loading model parameters for each token, which can further slow down inference depending on system memory access speeds. Optimizations like model compression, efficient hardware, and improved loading strategies can help mitigate these delays.\n",
            "🧠 Contextos recuperados:\n",
            "  1. inference latency since the generation of tokens cannot be parallelized. There is a bunch of literature addressing the first two axes: large model size (Xiao et al., 2022; Frantar et al., 2022; Lin et...\n",
            "\n",
            "\n",
            "\u001b[1m> Entering new AgentExecutor chain...\u001b[0m\n",
            "\u001b[32;1m\u001b[1;3m```json\n",
            "{\n",
            "    \"action\": \"arxiv_search\",\n",
            "    \"action_input\": \"Mixtral 8x7B architecture differences from Mistral 7B feedforward blocks and inference parameters\"\n",
            "}\n",
            "```\u001b[0m\n",
            "Observation: \u001b[36;1m\u001b[1;3mAbstract\n",
            "We introduce Mixtral 8x7B, a Sparse Mixture of Experts (SMoE) language model. Mixtral has the same architecture as Mistral 7B, with the difference that each layer is composed of 8 feedforward blocks (i.e. experts). For every token, at each layer, a router network selects two experts to process the current state and combine their outputs. Even though each token only sees two experts, the selected experts can be different at each timestep. As a result, each token has access to 47B parameters, but only uses 13B active parameters during inference. Mixtral was trained with a context size of 32k tokens and it outperforms or matches Llama 2 70B and GPT-3.5 across all evaluated benchmarks. In particular, Mixtral vastly outperforms Llama 2 70B on mathematics, code generation, and multilingual benchmarks. We also provide a model fine- tuned to follow instructions, Mixtral 8x7B â Instruct, that surpasses GPT-3.5 Turbo, Claude-2.1, Gemini Pro, and Llama 2 70B â chat model on human bench- marks. Both the base and instruct models are released under the Apache 2.0 license.\n",
            "Code: https://github.com/mistralai/mistral-src Webpage: https://mistral.ai/news/mixtral-of-experts/\n",
            "---\n",
            "We also present Mixtral 8x7B â Instruct, a chat model fine-tuned to follow instructions using supervised fine-tuning and Direct Preference Optimization [25]. Its performance notably surpasses that of GPT-3.5 Turbo, Claude-2.1, Gemini Pro, and Llama 2 70B â chat model on human evaluation benchmarks. Mixtral â Instruct also demonstrates reduced biases, and a more balanced sentiment profile in benchmarks such as BBQ, and BOLD. We release both Mixtral 8x7B and Mixtral 8x7B â Instruct under the Apache 2.0 license1, free for academic and commercial usage, ensuring broad accessibility and potential for diverse applications. To enable the community to run Mixtral with a fully open-source stack, we submitted changes to the vLLM project, which integrates Megablocks CUDA kernels for efficient inference. Skypilot also allows the deployment of vLLM endpoints on any instance in the cloud.\n",
            "# 2 Architectural details\n",
            "Mixtral is based on a transformer architecture [31] and uses the same modifications as described in [18], with the notable exceptions that Mix- tral supports a fully dense context length of 32k tokens, and the feed- forward blocks are replaced by Mixture-of-Expert layers (Section 2.1). The model architecture parameters are summarized in Table 1. Parameter Value\n",
            "---\n",
            "Table 2: Comparison of Mixtral with Llama. Mixtral outperforms or matches Llama 2 70B performance on almost all popular benchmarks while using 5x fewer active parameters during inference.\n",
            "70 Mixtral 8x7B. âMixtral 8x7B Mixtral 8x7B 355 =o = Es & E60! Mistral 78 % 2681 Mistral 78 3 3 s0 5 = A % 66 50 g 4 45 64 78 138 348708 78 138 348708 78 138 348 70B S66 Mixtral 8x7B 50 Mixtral 8x7B 5 = 564 340 g al Mistral 78 ee Mistral 78 3 5 Â§ 30 5 eo â= Mistral Â° 20 âe LlaMA2 78 (138 348 70B 7B (138 348 708 7B Â«13B 34B 708 Active Params Active Params Active Params\n",
            "Figure 3: Results on MMLU, commonsense reasoning, world knowledge and reading comprehension, math and code for Mistral (7B/8x7B) vs Llama 2 (7B/13B/70B). Mixtral largely outperforms Llama 2 70B on all benchmarks, except on reading comprehension benchmarks while using 5x lower active parameters. It is also vastly superior to Llama 2 70B on code and math.\n",
            "---\n",
            "Table 2: Comparison of Mistral 7B with Llama. Mistral 7B outperforms Llama 2 13B on all metrics, and approaches the code performance of Code-Llama 7B without sacrificing performance on non-code benchmarks.\n",
            "Size and Efficiency. We computed âequivalent model sizesâ of the Llama 2 family, aiming to understand Mistral 7B modelsâ efficiency in the cost-performance spectrum (see Figure 5). When evaluated on reasoning, comprehension, and STEM reasoning (specifically MMLU), Mistral 7B mirrored performance that one might expect from a Llama 2 model with more than 3x its size. On the Knowledge benchmarks, Mistral 7Bâs performance achieves a lower compression rate of 1.9x, which is likely due to its limited parameter count that restricts the amount of knowledge it can store.\n",
            "Evaluation Differences. On some benchmarks, there are some differences between our evaluation protocol and the one reported in the Llama 2 paper: 1) on MBPP, we use the hand-verified subset 2) on TriviaQA, we do not provide Wikipedia contexts.\n",
            "# Instruction Finetuning\n",
            "---\n",
            "Detailed results for Mixtral, Mistral 7B and Llama 2 7B/13B/70B and Llama 1 34B2 are reported in Table 2. Figure 2 compares the performance of Mixtral with the Llama models in different categories. Mixtral surpasses Llama 2 70B across most metrics. In particular, Mixtral displays a superior performance in code and mathematics benchmarks.\n",
            "Size and Efficiency. We compare our performance to the Llama 2 family, aiming to understand Mixtral modelsâ efficiency in the cost-performance spectrum (see Figure 3). As a sparse Mixture- of-Experts model, Mixtral only uses 13B active parameters for each token. With 5x lower active parameters, Mixtral is able to outperform Llama 2 70B across most categories.\n",
            "Note that this analysis focuses on the active parameter count (see Section 2.1), which is directly proportional to the inference compute cost, but does not consider the memory costs and hardware utilization. The memory costs for serving Mixtral are proportional to its sparse parameter count, 47B, which is still smaller than Llama 2 70B. As for device utilization, we note that the SMoEs layer introduces additional overhead due to the routing mechanism and due to the increased memory loads when running more than one expert per device. They are more suitable for batched workloads where one can reach a good degree of arithmetic intensity.\u001b[0m\n",
            "Thought:"
          ]
        },
        {
          "name": "stderr",
          "output_type": "stream",
          "text": [
            " 60%|██████    | 3/5 [00:13<00:08,  4.42s/it]"
          ]
        },
        {
          "name": "stdout",
          "output_type": "stream",
          "text": [
            "\u001b[32;1m\u001b[1;3m```json\n",
            "{\n",
            "    \"action\": \"Final Answer\",\n",
            "    \"action_input\": \"Mixtral 8x7B differs from Mistral 7B primarily in its use of a sparse mixture of experts (SMoE) architecture, where each layer contains 8 feedforward (expert) blocks. During inference, only 13 billion active parameters are used per token, despite the model having access to a total of 47 billion parameters. In contrast, Mistral 7B is a dense model with a standard transformer architecture. This means Mixtral 8x7B can achieve similar or better performance with fewer active parameters during inference, leading to increased efficiency. The architecture modifications in Mixtral, such as the expert routing mechanism, distinguish it from the standard feedforward blocks used in Mistral 7B.\"\n",
            "}\u001b[0m\n",
            "\n",
            "\u001b[1m> Finished chain.\u001b[0m\n",
            "💬 Usuario: How does the architecture of Mixtral 8x7B differ from Mistral 7B in terms of feedforward blocks and active parameters used during inference?\n",
            "🤖 Respuesta: Mixtral 8x7B differs from Mistral 7B primarily in its use of a sparse mixture of experts (SMoE) architecture, where each layer contains 8 feedforward (expert) blocks. During inference, only 13 billion active parameters are used per token, despite the model having access to a total of 47 billion parameters. In contrast, Mistral 7B is a dense model with a standard transformer architecture. This means Mixtral 8x7B can achieve similar or better performance with fewer active parameters during inference, leading to increased efficiency. The architecture modifications in Mixtral, such as the expert routing mechanism, distinguish it from the standard feedforward blocks used in Mistral 7B.\n",
            "🧠 Contextos recuperados:\n",
            "  1. Abstract We introduce Mixtral 8x7B, a Sparse Mixture of Experts (SMoE) language model. Mixtral has the same architecture as Mistral 7B, with the difference that each layer is composed of 8 feedforward...\n",
            "\n",
            "\n",
            "\u001b[1m> Entering new AgentExecutor chain...\u001b[0m\n",
            "\u001b[32;1m\u001b[1;3m```json\n",
            "{\n",
            "    \"action\": \"arxiv_search\",\n",
            "    \"action_input\": \"offloading A100 server MoE language models\"\n",
            "}\n",
            "```\u001b[0m\n",
            "Observation: \u001b[36;1m\u001b[1;3m1When deployed in 16-bit precision, Falcon-180B needs approximately 360GB, while LLaMA-2 70B requires 140GB of combined accelerator memory.\n",
            "In this work, we systematically develop techniques for running large MoE language models with limited GPU memory. Our main objective is inferencing (generating tokens) with Mixtral-8x7B- Instruct â a MoE-based chat assistant â on a desktop-grade hardware where only a fraction of experts fit into the accelerator memory. To that end:\n",
            "we observe how MoE language model accesses its experts between tokens, and find several regularities: i) some experts are reused between adjacent tokens and ii) the model hidden states of early layers already âknowâ which experts are to be used at subsequent layers. â¢ we design a MoE-specific offloading strategy that takes advantage of these regularities: i) it uses LRU cache to significantly reduces GPU-RAM communication, leading to faster generation and ii) it guesses which experts are needed ahead of time to better overlap expert loading with computation.\n",
            "â¢ we consider the specific scenario of running Mixtral-8x7B-Instruct on a T4, RTX 3060 and RTX 3080 Mobile and develop a practical combination of mixed quantization and the proposed offloading algorithm to run this model interactively at 2-3 tokens per second depending on the hardware. The source code with our implementation is available online2\n",
            "---\n",
            "Ren, J., Rajbhandari, S., Aminabadi, R. Y., Ruwase, O., Yang, S., Zhang, M., Li, D., and He, Y. Zero-offload: Democratizing billion-scale model training. CoRR, abs/2101.06840, 2021. URL https://arxiv.org/abs/2101.06840.\n",
            "Scao, T. L., Fan, A., Akiki, C., Pavlick, E., IliÂ´c, S., Hesslow, D., CastagnÃ©, R., Luccioni, A. S., Yvon, F., GallÃ©, M., et al. Bloom: A 176b-parameter open-access multilingual language model. arXiv preprint arXiv:2211.05100, 2022.\n",
            "Shahbaba, B. and Neal, R. Nonlinear models using dirichlet process mixtures. Journal of Machine Learning Research, 10(Aug):1829â1850, 2009.\n",
            "---\n",
            "# 5 Conclusion and Future Work\n",
            "In this work, we explore strategies for accelerating Mixture-of-Experts based language models on consumer hardware with limited GPU memory. We propose a MoE-centric approach to offloading\n",
            "7\n",
            "and explore how mixed quantization affects perplexity and performance on language understanding tasks. We evaluate the proposed strategies and show that they produce a significant increase in generation speed compared to naÂ¨ve approaches on consumer-grade hardware, including free-tier Google Colab.\n",
            "Our method provides a practical solution for inferencing large MoE language models on resource- constricted hardware, enabling broader access to these powerful models for research and development. As future work, we plan to explore further offloading strategies, based on speculative expert predic- tion.\n",
            "# Acknowledgements\n",
            "Authors would like to acknowledge mobicham@ for helpful discussions on Mixtral quantization.\n",
            "# References\n",
            "Aminabadi, R. Y., Rajbhandari, S., Awan, A. A., Li, C., Li, D., Zheng, E., Ruwase, O., Smith, S., Zhang, M., Rasley, J., and He, Y. Deepspeed-inference: Enabling efficient inference of transformer models at unprecedented scale. In Proceedings of the International Conference on High Performance Computing, Networking, Storage and Analysis, SC â22. IEEE Press, 2022. ISBN 9784665454445.\n",
            "---\n",
            "Shazeer et al. (2017) builds on this idea to train a sparsely gated Mixture-of-Experts to serve as a language model. The full model consists of a recurrent neural network backbone and a MoE module with up to 131072 experts. When processing a given token, a linear gating function select 4 most suitable experts based on the latest hidden state. The resulting model (including the gating function and experts) is trained end-to-end to minimize cross-entropy, with an additional regularizer to promote equal expert utilization. Shazeer et al. (2017) observed that the MoE model not only improves perplexity, but also learns interpretable expert specializations: some experts would âspecializeâ on prepositions, while others learn to express a particular concept (e.g. speed).\n",
            "---\n",
            "Jie Ren, Samyam Rajbhandari, Reza Yazdani Aminabadi, Olatunji Ruwase, Shuangyan Yang, Min- jia Zhang, Dong Li, and Yuxiong He. {ZeRO-Offload}: Democratizing {Billion-Scale} model training. In 2021 USENIX Annual Technical Conference (USENIX ATC 21), pp. 551â564, 2021.\n",
            "13\n",
            "# Skeleton-of-Thought: Large Language Models Can Do Parallel Decoding\n",
            "Andrea Santilli, Silvio Severino, Emilian Postolache, Valentino Maiorca, Michele Mancusi, Ric- cardo Marin, and Emanuele Rodol`a. Accelerating transformer inference for translation via paral- lel decoding. In acl, 2023.\n",
            "Timo Schick, Jane Dwivedi-Yu, Roberto Dess`Ä±, Roberta Raileanu, Maria Lomeli, Luke Zettlemoyer, Nicola Cancedda, and Thomas Scialom. Toolformer: Language models can teach themselves to use tools. arXiv preprint arXiv:2302.04761, 2023.\n",
            "SenseTime. Lightllm. https://github.com/ModelTC/lightllm, 2023a. Accessed: 2023-09-26.\u001b[0m\n",
            "Thought:"
          ]
        },
        {
          "name": "stderr",
          "output_type": "stream",
          "text": [
            " 80%|████████  | 4/5 [00:17<00:04,  4.29s/it]"
          ]
        },
        {
          "name": "stdout",
          "output_type": "stream",
          "text": [
            "\u001b[32;1m\u001b[1;3m```json\n",
            "{\n",
            "    \"action\": \"Final Answer\",\n",
            "    \"action_input\": \"Offloading in A100 servers for accelerating MoE-based language models is used during inference, especially when dealing with large models that require more memory than available on the GPU. Techniques such as expert caching, offloading experts to CPU memory, and overlapping expert loading with computation are employed to enable efficient inference on hardware with limited GPU memory. This approach allows models like Mixtral-8x7B to run interactively on consumer-grade hardware by reducing GPU memory usage and improving inference speed.\"\n",
            "}\n",
            "```\u001b[0m\n",
            "\n",
            "\u001b[1m> Finished chain.\u001b[0m\n",
            "💬 Usuario: When is offloading used on the A100 server for accelerating MoE-based language models?\n",
            "🤖 Respuesta: Offloading in A100 servers for accelerating MoE-based language models is used during inference, especially when dealing with large models that require more memory than available on the GPU. Techniques such as expert caching, offloading experts to CPU memory, and overlapping expert loading with computation are employed to enable efficient inference on hardware with limited GPU memory. This approach allows models like Mixtral-8x7B to run interactively on consumer-grade hardware by reducing GPU memory usage and improving inference speed.\n",
            "🧠 Contextos recuperados:\n",
            "  1. 1When deployed in 16-bit precision, Falcon-180B needs approximately 360GB, while LLaMA-2 70B requires 140GB of combined accelerator memory. In this work, we systematically develop techniques for runni...\n",
            "\n",
            "\n",
            "\u001b[1m> Entering new AgentExecutor chain...\u001b[0m\n",
            "\u001b[32;1m\u001b[1;3m```json\n",
            "{\n",
            "    \"action\": \"arxiv_search\",\n",
            "    \"action_input\": \"Mixtral 8x7B vs Llama 2 70B code benchmarks\"\n",
            "}\n",
            "```\u001b[0m\n",
            "Observation: \u001b[36;1m\u001b[1;3mDetailed results for Mistral 7B, Llama 2 7B/13B, and Code-Llama 7B are reported in Table 2. Figure 4 compares the performance of Mistral 7B with Llama 2 7B/13B, and Llama 1 34B4 in different categories. Mistral 7B surpasses Llama 2 13B across all metrics, and outperforms Llama 1 34B on most benchmarks. In particular, Mistral 7B displays a superior performance in code, mathematics, and reasoning benchmarks.\n",
            "4Since Llama 2 34B was not open-sourced, we report results for Llama 1 34B.\n",
            "3\n",
            "jm Mistral 7B = mm LLaMA2 138 50 lm Mistral 7B mm LLaMA2 138 mmm LlaMA278 lm LLaMA1 348 bel mmm LlaMA2 78 mem LlaMA 1348 70 40 vt = = eo g 7 = 330 Â£ g gs0 : < <20 40 10 ay MMLU Knowledge Reasoning Comprehension AGI Eval Math BBH Code\n",
            "---\n",
            "Table 2: Comparison of Mixtral with Llama. Mixtral outperforms or matches Llama 2 70B performance on almost all popular benchmarks while using 5x fewer active parameters during inference.\n",
            "70 Mixtral 8x7B. âMixtral 8x7B Mixtral 8x7B 355 =o = Es & E60! Mistral 78 % 2681 Mistral 78 3 3 s0 5 = A % 66 50 g 4 45 64 78 138 348708 78 138 348708 78 138 348 70B S66 Mixtral 8x7B 50 Mixtral 8x7B 5 = 564 340 g al Mistral 78 ee Mistral 78 3 5 Â§ 30 5 eo â= Mistral Â° 20 âe LlaMA2 78 (138 348 70B 7B (138 348 708 7B Â«13B 34B 708 Active Params Active Params Active Params\n",
            "Figure 3: Results on MMLU, commonsense reasoning, world knowledge and reading comprehension, math and code for Mistral (7B/8x7B) vs Llama 2 (7B/13B/70B). Mixtral largely outperforms Llama 2 70B on all benchmarks, except on reading comprehension benchmarks while using 5x lower active parameters. It is also vastly superior to Llama 2 70B on code and math.\n",
            "---\n",
            "Table 2: Comparison of Mistral 7B with Llama. Mistral 7B outperforms Llama 2 13B on all metrics, and approaches the code performance of Code-Llama 7B without sacrificing performance on non-code benchmarks.\n",
            "Size and Efficiency. We computed âequivalent model sizesâ of the Llama 2 family, aiming to understand Mistral 7B modelsâ efficiency in the cost-performance spectrum (see Figure 5). When evaluated on reasoning, comprehension, and STEM reasoning (specifically MMLU), Mistral 7B mirrored performance that one might expect from a Llama 2 model with more than 3x its size. On the Knowledge benchmarks, Mistral 7Bâs performance achieves a lower compression rate of 1.9x, which is likely due to its limited parameter count that restricts the amount of knowledge it can store.\n",
            "Evaluation Differences. On some benchmarks, there are some differences between our evaluation protocol and the one reported in the Llama 2 paper: 1) on MBPP, we use the hand-verified subset 2) on TriviaQA, we do not provide Wikipedia contexts.\n",
            "# Instruction Finetuning\n",
            "---\n",
            "Comparison with Llama 2 70B and GPT-3.5. In Table 3, we report the performance of Mixtral 8x7B compared to Llama 2 70B and GPT-3.5. We observe that Mixtral performs similarly or above the two other models. On MMLU, Mixtral obtains a better performance, despite its significantly smaller capacity (47B tokens compared to 70B). For MT Bench, we report the performance of the latest GPT-3.5-Turbo model available, gpt-3.5-turbo-1106.\n",
            "2Since Llama 2 34B was not open-sourced, we report results for Llama 1 34B.\n",
            "4\n",
            "---\n",
            "Detailed results for Mixtral, Mistral 7B and Llama 2 7B/13B/70B and Llama 1 34B2 are reported in Table 2. Figure 2 compares the performance of Mixtral with the Llama models in different categories. Mixtral surpasses Llama 2 70B across most metrics. In particular, Mixtral displays a superior performance in code and mathematics benchmarks.\n",
            "Size and Efficiency. We compare our performance to the Llama 2 family, aiming to understand Mixtral modelsâ efficiency in the cost-performance spectrum (see Figure 3). As a sparse Mixture- of-Experts model, Mixtral only uses 13B active parameters for each token. With 5x lower active parameters, Mixtral is able to outperform Llama 2 70B across most categories.\n",
            "Note that this analysis focuses on the active parameter count (see Section 2.1), which is directly proportional to the inference compute cost, but does not consider the memory costs and hardware utilization. The memory costs for serving Mixtral are proportional to its sparse parameter count, 47B, which is still smaller than Llama 2 70B. As for device utilization, we note that the SMoEs layer introduces additional overhead due to the routing mechanism and due to the increased memory loads when running more than one expert per device. They are more suitable for batched workloads where one can reach a good degree of arithmetic intensity.\u001b[0m\n",
            "Thought:"
          ]
        },
        {
          "name": "stderr",
          "output_type": "stream",
          "text": [
            "100%|██████████| 5/5 [00:20<00:00,  4.18s/it]"
          ]
        },
        {
          "name": "stdout",
          "output_type": "stream",
          "text": [
            "\u001b[32;1m\u001b[1;3m```json\n",
            "{\n",
            "    \"action\": \"Final Answer\",\n",
            "    \"action_input\": \"Mixtral 8x7B significantly outperforms Llama 2 70B across most benchmarks, especially in code, mathematics, and reasoning tasks, while using approximately 5 times fewer active parameters during inference. This makes Mixtral more efficient in terms of compute cost, despite having a smaller active parameter count, and it achieves comparable or superior performance on many tasks.\"\n",
            "}\n",
            "```\u001b[0m\n",
            "\n",
            "\u001b[1m> Finished chain.\u001b[0m\n",
            "💬 Usuario: How does Mixtral compare to Llama 2 70B in code benchmarks?\n",
            "🤖 Respuesta: Mixtral 8x7B significantly outperforms Llama 2 70B across most benchmarks, especially in code, mathematics, and reasoning tasks, while using approximately 5 times fewer active parameters during inference. This makes Mixtral more efficient in terms of compute cost, despite having a smaller active parameter count, and it achieves comparable or superior performance on many tasks.\n",
            "🧠 Contextos recuperados:\n",
            "  1. Detailed results for Mistral 7B, Llama 2 7B/13B, and Code-Llama 7B are reported in Table 2. Figure 4 compares the performance of Mistral 7B with Llama 2 7B/13B, and Llama 1 34B4 in different categorie...\n"
          ]
        },
        {
          "name": "stderr",
          "output_type": "stream",
          "text": [
            "\n"
          ]
        }
      ],
      "source": [
        "import pandas as pd\n",
        "from tqdm.auto import tqdm\n",
        "\n",
        "df = pd.DataFrame({\n",
        "    \"question\": [],\n",
        "    \"contexts\": [],\n",
        "    \"answer\": [],\n",
        "    \"ground_truth\": []\n",
        "})\n",
        "\n",
        "limit = 5\n",
        "\n",
        "for i, row in tqdm(enumerate(ragas_data), total=limit):\n",
        "    if i >= limit:\n",
        "        break\n",
        "    question = row[\"question\"]\n",
        "    ground_truths = row[\"ground_truth\"]\n",
        "    try:\n",
        "        out = chat(question)\n",
        "        answer = out[\"output\"]\n",
        "        if len(out[\"intermediate_steps\"]) != 0:\n",
        "            contexts = out[\"intermediate_steps\"][0][1].split(\"\\n---\\n\")\n",
        "        else:\n",
        "            # this is where no intermediate steps are used\n",
        "            contexts = []\n",
        "    except ValueError:\n",
        "        answer = \"ERROR\"\n",
        "        contexts = []\n",
        "    df = pd.concat([df, pd.DataFrame({\n",
        "        \"question\": question,\n",
        "        \"answer\": answer,\n",
        "        \"contexts\": [contexts],\n",
        "        \"ground_truth\": ground_truths\n",
        "    })], ignore_index=True)"
      ]
    },
    {
      "cell_type": "code",
      "execution_count": 45,
      "metadata": {
        "colab": {
          "base_uri": "https://localhost:8080/",
          "height": 293
        },
        "id": "QrpnyBfuj0uL",
        "outputId": "79f7a5cf-4231-4729-ac9a-2ec965e4ade6"
      },
      "outputs": [
        {
          "data": {
            "text/html": [
              "<div>\n",
              "<style scoped>\n",
              "    .dataframe tbody tr th:only-of-type {\n",
              "        vertical-align: middle;\n",
              "    }\n",
              "\n",
              "    .dataframe tbody tr th {\n",
              "        vertical-align: top;\n",
              "    }\n",
              "\n",
              "    .dataframe thead th {\n",
              "        text-align: right;\n",
              "    }\n",
              "</style>\n",
              "<table border=\"1\" class=\"dataframe\">\n",
              "  <thead>\n",
              "    <tr style=\"text-align: right;\">\n",
              "      <th></th>\n",
              "      <th>question</th>\n",
              "      <th>contexts</th>\n",
              "      <th>answer</th>\n",
              "      <th>ground_truth</th>\n",
              "    </tr>\n",
              "  </thead>\n",
              "  <tbody>\n",
              "    <tr>\n",
              "      <th>0</th>\n",
              "      <td>What is the impact of encoding the input promp...</td>\n",
              "      <td>[The generative inference workload consists of...</td>\n",
              "      <td>The impact of encoding the input prompt on inf...</td>\n",
              "      <td>The encoding of the input prompt has an impact...</td>\n",
              "    </tr>\n",
              "    <tr>\n",
              "      <th>1</th>\n",
              "      <td>How does generating tokens affect the inferenc...</td>\n",
              "      <td>[inference latency since the generation of tok...</td>\n",
              "      <td>Generating tokens sequentially during inferenc...</td>\n",
              "      <td>Generating tokens affects the inference speed ...</td>\n",
              "    </tr>\n",
              "    <tr>\n",
              "      <th>2</th>\n",
              "      <td>How does the architecture of Mixtral 8x7B diff...</td>\n",
              "      <td>[Abstract\\nWe introduce Mixtral 8x7B, a Sparse...</td>\n",
              "      <td>Mixtral 8x7B differs from Mistral 7B primarily...</td>\n",
              "      <td>The architecture of Mixtral 8x7B differs from ...</td>\n",
              "    </tr>\n",
              "    <tr>\n",
              "      <th>3</th>\n",
              "      <td>When is offloading used on the A100 server for...</td>\n",
              "      <td>[1When deployed in 16-bit precision, Falcon-18...</td>\n",
              "      <td>Offloading in A100 servers for accelerating Mo...</td>\n",
              "      <td>Offloading is used on the A100 server for acce...</td>\n",
              "    </tr>\n",
              "    <tr>\n",
              "      <th>4</th>\n",
              "      <td>How does Mixtral compare to Llama 2 70B in cod...</td>\n",
              "      <td>[Detailed results for Mistral 7B, Llama 2 7B/1...</td>\n",
              "      <td>Mixtral 8x7B significantly outperforms Llama 2...</td>\n",
              "      <td>Mixtral outperforms Llama 2 70B in code benchm...</td>\n",
              "    </tr>\n",
              "  </tbody>\n",
              "</table>\n",
              "</div>"
            ],
            "text/plain": [
              "                                            question  \\\n",
              "0  What is the impact of encoding the input promp...   \n",
              "1  How does generating tokens affect the inferenc...   \n",
              "2  How does the architecture of Mixtral 8x7B diff...   \n",
              "3  When is offloading used on the A100 server for...   \n",
              "4  How does Mixtral compare to Llama 2 70B in cod...   \n",
              "\n",
              "                                            contexts  \\\n",
              "0  [The generative inference workload consists of...   \n",
              "1  [inference latency since the generation of tok...   \n",
              "2  [Abstract\\nWe introduce Mixtral 8x7B, a Sparse...   \n",
              "3  [1When deployed in 16-bit precision, Falcon-18...   \n",
              "4  [Detailed results for Mistral 7B, Llama 2 7B/1...   \n",
              "\n",
              "                                              answer  \\\n",
              "0  The impact of encoding the input prompt on inf...   \n",
              "1  Generating tokens sequentially during inferenc...   \n",
              "2  Mixtral 8x7B differs from Mistral 7B primarily...   \n",
              "3  Offloading in A100 servers for accelerating Mo...   \n",
              "4  Mixtral 8x7B significantly outperforms Llama 2...   \n",
              "\n",
              "                                        ground_truth  \n",
              "0  The encoding of the input prompt has an impact...  \n",
              "1  Generating tokens affects the inference speed ...  \n",
              "2  The architecture of Mixtral 8x7B differs from ...  \n",
              "3  Offloading is used on the A100 server for acce...  \n",
              "4  Mixtral outperforms Llama 2 70B in code benchm...  "
            ]
          },
          "execution_count": 45,
          "metadata": {},
          "output_type": "execute_result"
        }
      ],
      "source": [
        "df"
      ]
    },
    {
      "cell_type": "code",
      "execution_count": 50,
      "metadata": {
        "colab": {
          "base_uri": "https://localhost:8080/"
        },
        "id": "sGBS3rApYNIt",
        "outputId": "9bb59635-6f91-4ccf-ed5d-46229b94bb26"
      },
      "outputs": [
        {
          "data": {
            "text/plain": [
              "Dataset({\n",
              "    features: ['question', 'contexts', 'answer', 'ground_truth'],\n",
              "    num_rows: 5\n",
              "})"
            ]
          },
          "execution_count": 50,
          "metadata": {},
          "output_type": "execute_result"
        }
      ],
      "source": [
        "from datasets import Dataset\n",
        "from ragas.metrics import (\n",
        "    faithfulness,\n",
        "    answer_relevancy,\n",
        "    context_precision,\n",
        "    context_recall,\n",
        "    answer_similarity,\n",
        "    answer_correctness,\n",
        ")\n",
        "\n",
        "eval_data = Dataset.from_dict(df)\n",
        "eval_data"
      ]
    },
    {
      "cell_type": "code",
      "execution_count": 55,
      "metadata": {
        "colab": {
          "base_uri": "https://localhost:8080/",
          "height": 49,
          "referenced_widgets": [
            "d645bb52c56b42ba88b78e3bc321aed6",
            "2d5f9179716a462ab4d1bd84808786e2",
            "17369a3ab6034a1683472f1c34d19b01",
            "bd003f9328f54f7fb52564a36364fe33",
            "46c5e86876fb435c913c95c4edbc2001",
            "434e98f493854e4c920d3bb316a82dc4",
            "63db45584d5d4f439832c40c7a7bb39f",
            "168a6e73679344da8a247cb6b65b09cf",
            "053d4d72f6c64153abbcbe908ca9fa27",
            "37d72aa109a442e2a59051e0328f48fa",
            "619d2d38fa6643cc9bce4aea7284d678"
          ]
        },
        "id": "gckieCTmzfg1",
        "outputId": "4b7d8912-0810-424e-8155-0b2d429c6cb1"
      },
      "outputs": [
        {
          "name": "stderr",
          "output_type": "stream",
          "text": [
            "Evaluating: 100%|██████████| 30/30 [00:21<00:00,  1.37it/s]\n"
          ]
        }
      ],
      "source": [
        "from ragas import evaluate\n",
        "\n",
        "result = evaluate(\n",
        "    dataset=eval_data,\n",
        "    metrics=[\n",
        "        faithfulness,\n",
        "        answer_relevancy,\n",
        "        context_precision,\n",
        "        context_recall,\n",
        "        answer_similarity,\n",
        "        answer_correctness,\n",
        "    ],\n",
        ")\n",
        "result = result.to_pandas()"
      ]
    },
    {
      "cell_type": "markdown",
      "metadata": {
        "id": "eKuXPfTYwTr3"
      },
      "source": [
        "## Retrieval Metrics / Métricas de Recuperación"
      ]
    },
    {
      "cell_type": "markdown",
      "metadata": {
        "id": "t-pJwPjqwVrU"
      },
      "source": [
        "La recuperación (retrieval) es el primer paso en un pipeline RAG, por lo que nos enfocaremos primero en las métricas que evalúan la parte de recuperación. Para eso, queremos principalmente centrarnos en `context_recall` y `context_precision`, pero antes de entrar en esas métricas debemos entender qué miden exactamente."
      ]
    },
    {
      "cell_type": "markdown",
      "metadata": {},
      "source": [
        "### Condición real (\"Actual\") vs. Predicha (\"Predicted\")\n",
        "\n",
        "Cuando evaluamos el rendimiento de sistemas de recuperación, tendemos a comparar los resultados _reales_ (ground truth) con los resultados _predichos_. Definimos estos términos de la siguiente manera:\n",
        "\n",
        "- **Condición real** es la etiqueta verdadera de cada contexto en el dataset. Estos son _positivos_ ($p$) si el contexto es relevante para la consulta, o _negativos_ ($n$) si el contexto es _irrelevante_.\n",
        "\n",
        "- **Condición predicha** es la etiqueta _predicha_ determinada por nuestro sistema de recuperación. Si un contexto es devuelto, es un _positivo predicho_ ($\\hat{p}$). Si no es devuelto, es un _negativo predicho_ ($\\hat{n}$).\n",
        "\n",
        "Dadas estas condiciones, podemos decir lo siguiente:\n",
        "\n",
        "- $p\\hat{p}$ es un **verdadero positivo**: un resultado relevante fue devuelto.\n",
        "- $n\\hat{n}$ es un **verdadero negativo**: un resultado irrelevante no fue devuelto.\n",
        "- $n\\hat{p}$ es un **falso positivo**: un resultado irrelevante fue devuelto.\n",
        "- $p\\hat{n}$ es un **falso negativo**: un resultado relevante _no_ fue devuelto.\n",
        "\n",
        "Veamos ahora cómo se aplican estos conceptos a nuestras métricas en RAGAS."
      ]
    },
    {
      "cell_type": "markdown",
      "metadata": {
        "id": "6MMDiXNOwi2n"
      },
      "source": [
        "#### Context Recall"
      ]
    },
    {
      "cell_type": "markdown",
      "metadata": {
        "id": "-fHPVNBkwlMA"
      },
      "source": [
        "El context recall (o simplemente _recall_) es una medida de cuántos de los documentos relevantes en un conjunto han sido recuperados. Se calcula como:\n",
        "\n",
        "$$\n",
        "Recall@K = \\frac{p\\hat{p}}{p\\hat{p} + n\\hat{n}} = \\frac{Contextos \\: relevantes \\: recuperados}{Cantidad \\: total \\: de \\: contextos \\: relevantes}\n",
        "$$\n",
        "\n",
        "RAGAS calcula el _Recall@K_ para evaluar el recall, donde _@K_ representa la cantidad de contextos devueltos por el sistema. A medida que se incrementa el valor de @K, el recall mejora (ya que aumenta la cobertura del sistema de recuperación).\n",
        "\n",
        "En el extremo, podríamos establecer @K igual al tamaño total del dataset para garantizar un recall perfecto —aunque eso anula el propósito del enfoque RAG.\n",
        "\n",
        "Por defecto, RAGAS utiliza un valor de _@K_ igual a `5`."
      ]
    },
    {
      "cell_type": "code",
      "execution_count": 56,
      "metadata": {
        "colab": {
          "base_uri": "https://localhost:8080/",
          "height": 1000
        },
        "id": "ZvbZv1IL3uR4",
        "outputId": "b98e2e94-5f82-4304-aa15-5c6bff921a70"
      },
      "outputs": [
        {
          "data": {
            "text/html": [
              "<div>\n",
              "<style scoped>\n",
              "    .dataframe tbody tr th:only-of-type {\n",
              "        vertical-align: middle;\n",
              "    }\n",
              "\n",
              "    .dataframe tbody tr th {\n",
              "        vertical-align: top;\n",
              "    }\n",
              "\n",
              "    .dataframe thead th {\n",
              "        text-align: right;\n",
              "    }\n",
              "</style>\n",
              "<table border=\"1\" class=\"dataframe\">\n",
              "  <thead>\n",
              "    <tr style=\"text-align: right;\">\n",
              "      <th></th>\n",
              "      <th>question</th>\n",
              "      <th>contexts</th>\n",
              "      <th>answer</th>\n",
              "      <th>context_recall</th>\n",
              "    </tr>\n",
              "  </thead>\n",
              "  <tbody>\n",
              "    <tr>\n",
              "      <th>0</th>\n",
              "      <td>What is the impact of encoding the input prompt on inference speed in generative inference?</td>\n",
              "      <td>[The generative inference workload consists of two phases: 1) encoding the input prompt and 2) generating tokens conditioned on that prompt. The key difference between these two phases is that prompt tokens are encoded in parallel (layer-by-layer), whereas the generation runs sequentially (token-by-token and layer-by-layer). In general, phase 1 works relatively well with existing Mixture- of-Experts algorithms, since each layer can only be loaded once for the entire prompt. In turn, when generating tokens, one must load layer once per each token generated. In practice, this means that inference speed is limited by how fast one can fetch parameters from system memory.\\nBelow, we look for ...</td>\n",
              "      <td>The impact of encoding the input prompt on inference speed in generative models is significant. Encoding the prompt involves processing the entire input in parallel, which is relatively efficient, especially with techniques like Mixture-of-Experts. However, during token generation, the model must process each token sequentially, loading parameters repeatedly, which can slow down inference. The speed is thus limited by how quickly system memory can fetch parameters, and optimizing expert loading patterns can help improve inference speed.</td>\n",
              "      <td>1.0</td>\n",
              "    </tr>\n",
              "    <tr>\n",
              "      <th>1</th>\n",
              "      <td>How does generating tokens affect the inference speed in generative inference?</td>\n",
              "      <td>[inference latency since the generation of tokens cannot be parallelized. There is a bunch of literature addressing the first two axes: large model size (Xiao et al., 2022; Frantar et al., 2022; Lin et al., 2023; Sheng et al., 2023; Wang et al., 2021) and attention operation (Kitaev et al., 2020; Wang et al., 2020; Dao et al., 2022; Zaheer et al., 2020; Chen et al., 2023b). These works either compress/redesign the model (Xiao et al., 2022; Frantar et al., 2022; Lin et al., 2023; Kitaev et al., 2020; Wang et al., 2020; Dao et al., 2022; Zaheer et al., 2020) or redesign the serving system (Sheng et al., 2023; Chen et al., 2023b) and hardware (Wang et al., 2021)., â¢ The average number of ...</td>\n",
              "      <td>Generating tokens sequentially during inference significantly impacts speed because each token must be produced one after the other, rather than in parallel. This token-by-token process introduces latency, as each new token depends on the previous ones, making the overall inference slower. Additionally, the process involves repeatedly loading model parameters for each token, which can further slow down inference depending on system memory access speeds. Optimizations like model compression, efficient hardware, and improved loading strategies can help mitigate these delays.</td>\n",
              "      <td>1.0</td>\n",
              "    </tr>\n",
              "    <tr>\n",
              "      <th>2</th>\n",
              "      <td>How does the architecture of Mixtral 8x7B differ from Mistral 7B in terms of feedforward blocks and active parameters used during inference?</td>\n",
              "      <td>[Abstract\\nWe introduce Mixtral 8x7B, a Sparse Mixture of Experts (SMoE) language model. Mixtral has the same architecture as Mistral 7B, with the difference that each layer is composed of 8 feedforward blocks (i.e. experts). For every token, at each layer, a router network selects two experts to process the current state and combine their outputs. Even though each token only sees two experts, the selected experts can be different at each timestep. As a result, each token has access to 47B parameters, but only uses 13B active parameters during inference. Mixtral was trained with a context size of 32k tokens and it outperforms or matches Llama 2 70B and GPT-3.5 across all evaluated benchm...</td>\n",
              "      <td>Mixtral 8x7B differs from Mistral 7B primarily in its use of a sparse mixture of experts (SMoE) architecture, where each layer contains 8 feedforward (expert) blocks. During inference, only 13 billion active parameters are used per token, despite the model having access to a total of 47 billion parameters. In contrast, Mistral 7B is a dense model with a standard transformer architecture. This means Mixtral 8x7B can achieve similar or better performance with fewer active parameters during inference, leading to increased efficiency. The architecture modifications in Mixtral, such as the expert routing mechanism, distinguish it from the standard feedforward blocks used in Mistral 7B.</td>\n",
              "      <td>1.0</td>\n",
              "    </tr>\n",
              "    <tr>\n",
              "      <th>3</th>\n",
              "      <td>When is offloading used on the A100 server for accelerating MoE-based language models?</td>\n",
              "      <td>[1When deployed in 16-bit precision, Falcon-180B needs approximately 360GB, while LLaMA-2 70B requires 140GB of combined accelerator memory.\\nIn this work, we systematically develop techniques for running large MoE language models with limited GPU memory. Our main objective is inferencing (generating tokens) with Mixtral-8x7B- Instruct â a MoE-based chat assistant â on a desktop-grade hardware where only a fraction of experts fit into the accelerator memory. To that end:\\nwe observe how MoE language model accesses its experts between tokens, and find several regularities: i) some experts are reused between adjacent tokens and ii) the model hidden states of early layers already âkno...</td>\n",
              "      <td>Offloading in A100 servers for accelerating MoE-based language models is used during inference, especially when dealing with large models that require more memory than available on the GPU. Techniques such as expert caching, offloading experts to CPU memory, and overlapping expert loading with computation are employed to enable efficient inference on hardware with limited GPU memory. This approach allows models like Mixtral-8x7B to run interactively on consumer-grade hardware by reducing GPU memory usage and improving inference speed.</td>\n",
              "      <td>1.0</td>\n",
              "    </tr>\n",
              "    <tr>\n",
              "      <th>4</th>\n",
              "      <td>How does Mixtral compare to Llama 2 70B in code benchmarks?</td>\n",
              "      <td>[Detailed results for Mistral 7B, Llama 2 7B/13B, and Code-Llama 7B are reported in Table 2. Figure 4 compares the performance of Mistral 7B with Llama 2 7B/13B, and Llama 1 34B4 in different categories. Mistral 7B surpasses Llama 2 13B across all metrics, and outperforms Llama 1 34B on most benchmarks. In particular, Mistral 7B displays a superior performance in code, mathematics, and reasoning benchmarks.\\n4Since Llama 2 34B was not open-sourced, we report results for Llama 1 34B.\\n3\\njm Mistral 7B = mm LLaMA2 138 50 lm Mistral 7B mm LLaMA2 138 mmm LlaMA278 lm LLaMA1 348 bel mmm LlaMA2 78 mem LlaMA 1348 70 40 vt = = eo g 7 = 330 Â£ g gs0 : &lt; &lt;20 40 10 ay MMLU Knowledge Reasoning Compre...</td>\n",
              "      <td>Mixtral 8x7B significantly outperforms Llama 2 70B across most benchmarks, especially in code, mathematics, and reasoning tasks, while using approximately 5 times fewer active parameters during inference. This makes Mixtral more efficient in terms of compute cost, despite having a smaller active parameter count, and it achieves comparable or superior performance on many tasks.</td>\n",
              "      <td>1.0</td>\n",
              "    </tr>\n",
              "  </tbody>\n",
              "</table>\n",
              "</div>"
            ],
            "text/plain": [
              "                                                                                                                                       question  \\\n",
              "0                                                   What is the impact of encoding the input prompt on inference speed in generative inference?   \n",
              "1                                                                How does generating tokens affect the inference speed in generative inference?   \n",
              "2  How does the architecture of Mixtral 8x7B differ from Mistral 7B in terms of feedforward blocks and active parameters used during inference?   \n",
              "3                                                        When is offloading used on the A100 server for accelerating MoE-based language models?   \n",
              "4                                                                                   How does Mixtral compare to Llama 2 70B in code benchmarks?   \n",
              "\n",
              "                                                                                                                                                                                                                                                                                                                                                                                                                                                                                                                                                                                                                                                                                                                      contexts  \\\n",
              "0  [The generative inference workload consists of two phases: 1) encoding the input prompt and 2) generating tokens conditioned on that prompt. The key difference between these two phases is that prompt tokens are encoded in parallel (layer-by-layer), whereas the generation runs sequentially (token-by-token and layer-by-layer). In general, phase 1 works relatively well with existing Mixture- of-Experts algorithms, since each layer can only be loaded once for the entire prompt. In turn, when generating tokens, one must load layer once per each token generated. In practice, this means that inference speed is limited by how fast one can fetch parameters from system memory.\\nBelow, we look for ...   \n",
              "1  [inference latency since the generation of tokens cannot be parallelized. There is a bunch of literature addressing the first two axes: large model size (Xiao et al., 2022; Frantar et al., 2022; Lin et al., 2023; Sheng et al., 2023; Wang et al., 2021) and attention operation (Kitaev et al., 2020; Wang et al., 2020; Dao et al., 2022; Zaheer et al., 2020; Chen et al., 2023b). These works either compress/redesign the model (Xiao et al., 2022; Frantar et al., 2022; Lin et al., 2023; Kitaev et al., 2020; Wang et al., 2020; Dao et al., 2022; Zaheer et al., 2020) or redesign the serving system (Sheng et al., 2023; Chen et al., 2023b) and hardware (Wang et al., 2021)., â¢ The average number of ...   \n",
              "2  [Abstract\\nWe introduce Mixtral 8x7B, a Sparse Mixture of Experts (SMoE) language model. Mixtral has the same architecture as Mistral 7B, with the difference that each layer is composed of 8 feedforward blocks (i.e. experts). For every token, at each layer, a router network selects two experts to process the current state and combine their outputs. Even though each token only sees two experts, the selected experts can be different at each timestep. As a result, each token has access to 47B parameters, but only uses 13B active parameters during inference. Mixtral was trained with a context size of 32k tokens and it outperforms or matches Llama 2 70B and GPT-3.5 across all evaluated benchm...   \n",
              "3  [1When deployed in 16-bit precision, Falcon-180B needs approximately 360GB, while LLaMA-2 70B requires 140GB of combined accelerator memory.\\nIn this work, we systematically develop techniques for running large MoE language models with limited GPU memory. Our main objective is inferencing (generating tokens) with Mixtral-8x7B- Instruct â a MoE-based chat assistant â on a desktop-grade hardware where only a fraction of experts fit into the accelerator memory. To that end:\\nwe observe how MoE language model accesses its experts between tokens, and find several regularities: i) some experts are reused between adjacent tokens and ii) the model hidden states of early layers already âkno...   \n",
              "4  [Detailed results for Mistral 7B, Llama 2 7B/13B, and Code-Llama 7B are reported in Table 2. Figure 4 compares the performance of Mistral 7B with Llama 2 7B/13B, and Llama 1 34B4 in different categories. Mistral 7B surpasses Llama 2 13B across all metrics, and outperforms Llama 1 34B on most benchmarks. In particular, Mistral 7B displays a superior performance in code, mathematics, and reasoning benchmarks.\\n4Since Llama 2 34B was not open-sourced, we report results for Llama 1 34B.\\n3\\njm Mistral 7B = mm LLaMA2 138 50 lm Mistral 7B mm LLaMA2 138 mmm LlaMA278 lm LLaMA1 348 bel mmm LlaMA2 78 mem LlaMA 1348 70 40 vt = = eo g 7 = 330 Â£ g gs0 : < <20 40 10 ay MMLU Knowledge Reasoning Compre...   \n",
              "\n",
              "                                                                                                                                                                                                                                                                                                                                                                                                                                                                                                                                                                                                                                                                                                              answer  \\\n",
              "0                                                                                                                                                     The impact of encoding the input prompt on inference speed in generative models is significant. Encoding the prompt involves processing the entire input in parallel, which is relatively efficient, especially with techniques like Mixture-of-Experts. However, during token generation, the model must process each token sequentially, loading parameters repeatedly, which can slow down inference. The speed is thus limited by how quickly system memory can fetch parameters, and optimizing expert loading patterns can help improve inference speed.   \n",
              "1                                                                                                                Generating tokens sequentially during inference significantly impacts speed because each token must be produced one after the other, rather than in parallel. This token-by-token process introduces latency, as each new token depends on the previous ones, making the overall inference slower. Additionally, the process involves repeatedly loading model parameters for each token, which can further slow down inference depending on system memory access speeds. Optimizations like model compression, efficient hardware, and improved loading strategies can help mitigate these delays.   \n",
              "2  Mixtral 8x7B differs from Mistral 7B primarily in its use of a sparse mixture of experts (SMoE) architecture, where each layer contains 8 feedforward (expert) blocks. During inference, only 13 billion active parameters are used per token, despite the model having access to a total of 47 billion parameters. In contrast, Mistral 7B is a dense model with a standard transformer architecture. This means Mixtral 8x7B can achieve similar or better performance with fewer active parameters during inference, leading to increased efficiency. The architecture modifications in Mixtral, such as the expert routing mechanism, distinguish it from the standard feedforward blocks used in Mistral 7B.   \n",
              "3                                                                                                                                                       Offloading in A100 servers for accelerating MoE-based language models is used during inference, especially when dealing with large models that require more memory than available on the GPU. Techniques such as expert caching, offloading experts to CPU memory, and overlapping expert loading with computation are employed to enable efficient inference on hardware with limited GPU memory. This approach allows models like Mixtral-8x7B to run interactively on consumer-grade hardware by reducing GPU memory usage and improving inference speed.   \n",
              "4                                                                                                                                                                                                                                                                                                                        Mixtral 8x7B significantly outperforms Llama 2 70B across most benchmarks, especially in code, mathematics, and reasoning tasks, while using approximately 5 times fewer active parameters during inference. This makes Mixtral more efficient in terms of compute cost, despite having a smaller active parameter count, and it achieves comparable or superior performance on many tasks.   \n",
              "\n",
              "   context_recall  \n",
              "0             1.0  \n",
              "1             1.0  \n",
              "2             1.0  \n",
              "3             1.0  \n",
              "4             1.0  "
            ]
          },
          "execution_count": 56,
          "metadata": {},
          "output_type": "execute_result"
        }
      ],
      "source": [
        "pd.set_option(\"display.max_colwidth\", 700)\n",
        "\n",
        "# Unimos el dataframe original (df) con las métricas (result)\n",
        "final_result = pd.concat([df.reset_index(drop=True), result.reset_index(drop=True)], axis=1)\n",
        "\n",
        "final_result[[\"question\", \"contexts\", \"answer\", \"context_recall\"]]"
      ]
    },
    {
      "cell_type": "markdown",
      "metadata": {
        "id": "MA3mHXDO4ALO"
      },
      "source": [
        "Aquí podemos ver que todos los resultados devolvieron un `1.0`, lo cual indica que el 100% de los contextos relevantes fueron recuperados en cada caso.\n",
        "\n",
        "Como ejemplo hipotético, si se hubiera obtenido un score de `0.6`, eso significaría que se recuperaron 3 de cada 5 contextos relevantes (es decir, un 60%).\n",
        "\n",
        "El recall es una métrica útil, pero se puede engañar fácilmente si simplemente se devuelven más documentos, es decir, si se incrementa el valor de _@K_. Por este motivo, normalmente se combina con la métrica de precisión (precision)."
      ]
    },
    {
      "cell_type": "markdown",
      "metadata": {
        "id": "xmItVH9l_BeD"
      },
      "source": [
        "### Context Precision"
      ]
    },
    {
      "cell_type": "markdown",
      "metadata": {
        "id": "Fnr0tS-7_Dho"
      },
      "source": [
        "La **precisión de contexto** (o simplemente _precisión_) es otra métrica muy popular para evaluar sistemas de recuperación. Es común ver **recall** y **precision** utilizadas en conjunto para evaluar el rendimiento de estos sistemas.\n",
        "\n",
        "Al igual que con el recall, la métrica real utilizada es _Precision@K_, donde **@K** representa la cantidad de contextos devueltos. Sin embargo, a diferencia del recall, la precisión se enfoca en la **cantidad de resultados relevantes dentro del total de resultados devueltos**, sin importar si los irrelevantes fueron descartados o no. Es decir, mide **la proporción de resultados relevantes entre todos los que se devolvieron**.\n",
        "\n",
        "$$\n",
        "Precision@K = \\frac{p\\hat{p}}{p\\hat{p} + p\\hat{n}} = \\frac{Contextos \\: relevantes \\: recuperados}{Total \\: de \\: contextos \\: devueltos}\n",
        "$$\n"
      ]
    },
    {
      "attachments": {
        "image.png": {
          "image/png": "[encoded data removed]"
        }
      },
      "cell_type": "markdown",
      "metadata": {},
      "source": [
        "![image.png](attachment:image.png)"
      ]
    },
    {
      "cell_type": "code",
      "execution_count": 57,
      "metadata": {
        "colab": {
          "base_uri": "https://localhost:8080/",
          "height": 1000
        },
        "id": "M6ZZgWPKWpw6",
        "outputId": "5e1163f5-d10a-46d6-a63d-3730175b6f52"
      },
      "outputs": [
        {
          "data": {
            "text/html": [
              "<div>\n",
              "<style scoped>\n",
              "    .dataframe tbody tr th:only-of-type {\n",
              "        vertical-align: middle;\n",
              "    }\n",
              "\n",
              "    .dataframe tbody tr th {\n",
              "        vertical-align: top;\n",
              "    }\n",
              "\n",
              "    .dataframe thead th {\n",
              "        text-align: right;\n",
              "    }\n",
              "</style>\n",
              "<table border=\"1\" class=\"dataframe\">\n",
              "  <thead>\n",
              "    <tr style=\"text-align: right;\">\n",
              "      <th></th>\n",
              "      <th>question</th>\n",
              "      <th>contexts</th>\n",
              "      <th>answer</th>\n",
              "      <th>context_precision</th>\n",
              "    </tr>\n",
              "  </thead>\n",
              "  <tbody>\n",
              "    <tr>\n",
              "      <th>0</th>\n",
              "      <td>What is the impact of encoding the input prompt on inference speed in generative inference?</td>\n",
              "      <td>[The generative inference workload consists of two phases: 1) encoding the input prompt and 2) generating tokens conditioned on that prompt. The key difference between these two phases is that prompt tokens are encoded in parallel (layer-by-layer), whereas the generation runs sequentially (token-by-token and layer-by-layer). In general, phase 1 works relatively well with existing Mixture- of-Experts algorithms, since each layer can only be loaded once for the entire prompt. In turn, when generating tokens, one must load layer once per each token generated. In practice, this means that inference speed is limited by how fast one can fetch parameters from system memory.\\nBelow, we look for ...</td>\n",
              "      <td>The impact of encoding the input prompt on inference speed in generative models is significant. Encoding the prompt involves processing the entire input in parallel, which is relatively efficient, especially with techniques like Mixture-of-Experts. However, during token generation, the model must process each token sequentially, loading parameters repeatedly, which can slow down inference. The speed is thus limited by how quickly system memory can fetch parameters, and optimizing expert loading patterns can help improve inference speed.</td>\n",
              "      <td>0.804167</td>\n",
              "    </tr>\n",
              "    <tr>\n",
              "      <th>1</th>\n",
              "      <td>How does generating tokens affect the inference speed in generative inference?</td>\n",
              "      <td>[inference latency since the generation of tokens cannot be parallelized. There is a bunch of literature addressing the first two axes: large model size (Xiao et al., 2022; Frantar et al., 2022; Lin et al., 2023; Sheng et al., 2023; Wang et al., 2021) and attention operation (Kitaev et al., 2020; Wang et al., 2020; Dao et al., 2022; Zaheer et al., 2020; Chen et al., 2023b). These works either compress/redesign the model (Xiao et al., 2022; Frantar et al., 2022; Lin et al., 2023; Kitaev et al., 2020; Wang et al., 2020; Dao et al., 2022; Zaheer et al., 2020) or redesign the serving system (Sheng et al., 2023; Chen et al., 2023b) and hardware (Wang et al., 2021)., â¢ The average number of ...</td>\n",
              "      <td>Generating tokens sequentially during inference significantly impacts speed because each token must be produced one after the other, rather than in parallel. This token-by-token process introduces latency, as each new token depends on the previous ones, making the overall inference slower. Additionally, the process involves repeatedly loading model parameters for each token, which can further slow down inference depending on system memory access speeds. Optimizations like model compression, efficient hardware, and improved loading strategies can help mitigate these delays.</td>\n",
              "      <td>1.000000</td>\n",
              "    </tr>\n",
              "    <tr>\n",
              "      <th>2</th>\n",
              "      <td>How does the architecture of Mixtral 8x7B differ from Mistral 7B in terms of feedforward blocks and active parameters used during inference?</td>\n",
              "      <td>[Abstract\\nWe introduce Mixtral 8x7B, a Sparse Mixture of Experts (SMoE) language model. Mixtral has the same architecture as Mistral 7B, with the difference that each layer is composed of 8 feedforward blocks (i.e. experts). For every token, at each layer, a router network selects two experts to process the current state and combine their outputs. Even though each token only sees two experts, the selected experts can be different at each timestep. As a result, each token has access to 47B parameters, but only uses 13B active parameters during inference. Mixtral was trained with a context size of 32k tokens and it outperforms or matches Llama 2 70B and GPT-3.5 across all evaluated benchm...</td>\n",
              "      <td>Mixtral 8x7B differs from Mistral 7B primarily in its use of a sparse mixture of experts (SMoE) architecture, where each layer contains 8 feedforward (expert) blocks. During inference, only 13 billion active parameters are used per token, despite the model having access to a total of 47 billion parameters. In contrast, Mistral 7B is a dense model with a standard transformer architecture. This means Mixtral 8x7B can achieve similar or better performance with fewer active parameters during inference, leading to increased efficiency. The architecture modifications in Mixtral, such as the expert routing mechanism, distinguish it from the standard feedforward blocks used in Mistral 7B.</td>\n",
              "      <td>1.000000</td>\n",
              "    </tr>\n",
              "    <tr>\n",
              "      <th>3</th>\n",
              "      <td>When is offloading used on the A100 server for accelerating MoE-based language models?</td>\n",
              "      <td>[1When deployed in 16-bit precision, Falcon-180B needs approximately 360GB, while LLaMA-2 70B requires 140GB of combined accelerator memory.\\nIn this work, we systematically develop techniques for running large MoE language models with limited GPU memory. Our main objective is inferencing (generating tokens) with Mixtral-8x7B- Instruct â a MoE-based chat assistant â on a desktop-grade hardware where only a fraction of experts fit into the accelerator memory. To that end:\\nwe observe how MoE language model accesses its experts between tokens, and find several regularities: i) some experts are reused between adjacent tokens and ii) the model hidden states of early layers already âkno...</td>\n",
              "      <td>Offloading in A100 servers for accelerating MoE-based language models is used during inference, especially when dealing with large models that require more memory than available on the GPU. Techniques such as expert caching, offloading experts to CPU memory, and overlapping expert loading with computation are employed to enable efficient inference on hardware with limited GPU memory. This approach allows models like Mixtral-8x7B to run interactively on consumer-grade hardware by reducing GPU memory usage and improving inference speed.</td>\n",
              "      <td>0.833333</td>\n",
              "    </tr>\n",
              "    <tr>\n",
              "      <th>4</th>\n",
              "      <td>How does Mixtral compare to Llama 2 70B in code benchmarks?</td>\n",
              "      <td>[Detailed results for Mistral 7B, Llama 2 7B/13B, and Code-Llama 7B are reported in Table 2. Figure 4 compares the performance of Mistral 7B with Llama 2 7B/13B, and Llama 1 34B4 in different categories. Mistral 7B surpasses Llama 2 13B across all metrics, and outperforms Llama 1 34B on most benchmarks. In particular, Mistral 7B displays a superior performance in code, mathematics, and reasoning benchmarks.\\n4Since Llama 2 34B was not open-sourced, we report results for Llama 1 34B.\\n3\\njm Mistral 7B = mm LLaMA2 138 50 lm Mistral 7B mm LLaMA2 138 mmm LlaMA278 lm LLaMA1 348 bel mmm LlaMA2 78 mem LlaMA 1348 70 40 vt = = eo g 7 = 330 Â£ g gs0 : &lt; &lt;20 40 10 ay MMLU Knowledge Reasoning Compre...</td>\n",
              "      <td>Mixtral 8x7B significantly outperforms Llama 2 70B across most benchmarks, especially in code, mathematics, and reasoning tasks, while using approximately 5 times fewer active parameters during inference. This makes Mixtral more efficient in terms of compute cost, despite having a smaller active parameter count, and it achieves comparable or superior performance on many tasks.</td>\n",
              "      <td>0.887500</td>\n",
              "    </tr>\n",
              "  </tbody>\n",
              "</table>\n",
              "</div>"
            ],
            "text/plain": [
              "                                                                                                                                       question  \\\n",
              "0                                                   What is the impact of encoding the input prompt on inference speed in generative inference?   \n",
              "1                                                                How does generating tokens affect the inference speed in generative inference?   \n",
              "2  How does the architecture of Mixtral 8x7B differ from Mistral 7B in terms of feedforward blocks and active parameters used during inference?   \n",
              "3                                                        When is offloading used on the A100 server for accelerating MoE-based language models?   \n",
              "4                                                                                   How does Mixtral compare to Llama 2 70B in code benchmarks?   \n",
              "\n",
              "                                                                                                                                                                                                                                                                                                                                                                                                                                                                                                                                                                                                                                                                                                                      contexts  \\\n",
              "0  [The generative inference workload consists of two phases: 1) encoding the input prompt and 2) generating tokens conditioned on that prompt. The key difference between these two phases is that prompt tokens are encoded in parallel (layer-by-layer), whereas the generation runs sequentially (token-by-token and layer-by-layer). In general, phase 1 works relatively well with existing Mixture- of-Experts algorithms, since each layer can only be loaded once for the entire prompt. In turn, when generating tokens, one must load layer once per each token generated. In practice, this means that inference speed is limited by how fast one can fetch parameters from system memory.\\nBelow, we look for ...   \n",
              "1  [inference latency since the generation of tokens cannot be parallelized. There is a bunch of literature addressing the first two axes: large model size (Xiao et al., 2022; Frantar et al., 2022; Lin et al., 2023; Sheng et al., 2023; Wang et al., 2021) and attention operation (Kitaev et al., 2020; Wang et al., 2020; Dao et al., 2022; Zaheer et al., 2020; Chen et al., 2023b). These works either compress/redesign the model (Xiao et al., 2022; Frantar et al., 2022; Lin et al., 2023; Kitaev et al., 2020; Wang et al., 2020; Dao et al., 2022; Zaheer et al., 2020) or redesign the serving system (Sheng et al., 2023; Chen et al., 2023b) and hardware (Wang et al., 2021)., â¢ The average number of ...   \n",
              "2  [Abstract\\nWe introduce Mixtral 8x7B, a Sparse Mixture of Experts (SMoE) language model. Mixtral has the same architecture as Mistral 7B, with the difference that each layer is composed of 8 feedforward blocks (i.e. experts). For every token, at each layer, a router network selects two experts to process the current state and combine their outputs. Even though each token only sees two experts, the selected experts can be different at each timestep. As a result, each token has access to 47B parameters, but only uses 13B active parameters during inference. Mixtral was trained with a context size of 32k tokens and it outperforms or matches Llama 2 70B and GPT-3.5 across all evaluated benchm...   \n",
              "3  [1When deployed in 16-bit precision, Falcon-180B needs approximately 360GB, while LLaMA-2 70B requires 140GB of combined accelerator memory.\\nIn this work, we systematically develop techniques for running large MoE language models with limited GPU memory. Our main objective is inferencing (generating tokens) with Mixtral-8x7B- Instruct â a MoE-based chat assistant â on a desktop-grade hardware where only a fraction of experts fit into the accelerator memory. To that end:\\nwe observe how MoE language model accesses its experts between tokens, and find several regularities: i) some experts are reused between adjacent tokens and ii) the model hidden states of early layers already âkno...   \n",
              "4  [Detailed results for Mistral 7B, Llama 2 7B/13B, and Code-Llama 7B are reported in Table 2. Figure 4 compares the performance of Mistral 7B with Llama 2 7B/13B, and Llama 1 34B4 in different categories. Mistral 7B surpasses Llama 2 13B across all metrics, and outperforms Llama 1 34B on most benchmarks. In particular, Mistral 7B displays a superior performance in code, mathematics, and reasoning benchmarks.\\n4Since Llama 2 34B was not open-sourced, we report results for Llama 1 34B.\\n3\\njm Mistral 7B = mm LLaMA2 138 50 lm Mistral 7B mm LLaMA2 138 mmm LlaMA278 lm LLaMA1 348 bel mmm LlaMA2 78 mem LlaMA 1348 70 40 vt = = eo g 7 = 330 Â£ g gs0 : < <20 40 10 ay MMLU Knowledge Reasoning Compre...   \n",
              "\n",
              "                                                                                                                                                                                                                                                                                                                                                                                                                                                                                                                                                                                                                                                                                                              answer  \\\n",
              "0                                                                                                                                                     The impact of encoding the input prompt on inference speed in generative models is significant. Encoding the prompt involves processing the entire input in parallel, which is relatively efficient, especially with techniques like Mixture-of-Experts. However, during token generation, the model must process each token sequentially, loading parameters repeatedly, which can slow down inference. The speed is thus limited by how quickly system memory can fetch parameters, and optimizing expert loading patterns can help improve inference speed.   \n",
              "1                                                                                                                Generating tokens sequentially during inference significantly impacts speed because each token must be produced one after the other, rather than in parallel. This token-by-token process introduces latency, as each new token depends on the previous ones, making the overall inference slower. Additionally, the process involves repeatedly loading model parameters for each token, which can further slow down inference depending on system memory access speeds. Optimizations like model compression, efficient hardware, and improved loading strategies can help mitigate these delays.   \n",
              "2  Mixtral 8x7B differs from Mistral 7B primarily in its use of a sparse mixture of experts (SMoE) architecture, where each layer contains 8 feedforward (expert) blocks. During inference, only 13 billion active parameters are used per token, despite the model having access to a total of 47 billion parameters. In contrast, Mistral 7B is a dense model with a standard transformer architecture. This means Mixtral 8x7B can achieve similar or better performance with fewer active parameters during inference, leading to increased efficiency. The architecture modifications in Mixtral, such as the expert routing mechanism, distinguish it from the standard feedforward blocks used in Mistral 7B.   \n",
              "3                                                                                                                                                       Offloading in A100 servers for accelerating MoE-based language models is used during inference, especially when dealing with large models that require more memory than available on the GPU. Techniques such as expert caching, offloading experts to CPU memory, and overlapping expert loading with computation are employed to enable efficient inference on hardware with limited GPU memory. This approach allows models like Mixtral-8x7B to run interactively on consumer-grade hardware by reducing GPU memory usage and improving inference speed.   \n",
              "4                                                                                                                                                                                                                                                                                                                        Mixtral 8x7B significantly outperforms Llama 2 70B across most benchmarks, especially in code, mathematics, and reasoning tasks, while using approximately 5 times fewer active parameters during inference. This makes Mixtral more efficient in terms of compute cost, despite having a smaller active parameter count, and it achieves comparable or superior performance on many tasks.   \n",
              "\n",
              "   context_precision  \n",
              "0           0.804167  \n",
              "1           1.000000  \n",
              "2           1.000000  \n",
              "3           0.833333  \n",
              "4           0.887500  "
            ]
          },
          "execution_count": 57,
          "metadata": {},
          "output_type": "execute_result"
        }
      ],
      "source": [
        "pd.set_option(\"display.max_colwidth\", 700)\n",
        "final_result[[\"question\", \"contexts\", \"answer\", \"context_precision\"]]"
      ]
    },
    {
      "cell_type": "markdown",
      "metadata": {
        "id": "vD6NoHDZWyVx"
      },
      "source": [
        "RAGAS usa embeddings + soft matching, a diferencia de un sistema clásico donde un contexto es relevante o no (1 o 0).\n",
        "\n",
        "1. Calcula la similitud semántica entre los contextos devueltos y los contextos ideales (ground truths).\n",
        "\n",
        "2. Usa una métrica como cosine similarity para dar un score continuo (entre 0 y 1) a cada contexto recuperado.\n",
        "\n",
        "3. Suma esas similitudes para calcular la precisión, en vez de contar solo exact matches.\n",
        "\n",
        "Entonces, RAGAS no cuenta cuántos son “correctos”, sino que calcula un promedio ponderado,. Si hay un valor menor a 1, significa que algunos de los contextos eran parcialmente relevantes pero no perfectos."
      ]
    },
    {
      "cell_type": "markdown",
      "metadata": {
        "id": "NI5NgDpWXKuY"
      },
      "source": [
        "## Generation Metrics / Métricas de Generación"
      ]
    },
    {
      "cell_type": "markdown",
      "metadata": {
        "id": "kTUWxra6wK_A"
      },
      "source": [
        "### Faithfullness / Fidelidad"
      ]
    },
    {
      "cell_type": "markdown",
      "metadata": {
        "id": "pBqu0ZBGgAwl"
      },
      "source": [
        "La métrica de _faithfulness_ mide (en un rango de _0_ a _1_) la consistencia factual de una respuesta en relación con el contexto recuperado.  \n",
        "Un valor de _1_ significa que **todas las afirmaciones** presentes en la respuesta también se encuentran en el contexto.  \n",
        "Un valor de _0_ indica que **ninguna de las afirmaciones** de la respuesta se encuentra en el contexto.\n",
        "\n",
        "Calculamos _faithfulness_ de la siguiente manera:\n",
        "\n",
        "$$\n",
        "Faithfulness = \\frac{Número \\: de \\: afirmaciones \\: en \\: la \\: respuesta \\: que \\: también \\: están \\: en \\: el \\: contexto}{Número \\: total \\: de \\: afirmaciones \\: en \\: la \\: respuesta}\n",
        "$$\n"
      ]
    },
    {
      "cell_type": "code",
      "execution_count": 60,
      "metadata": {
        "colab": {
          "base_uri": "https://localhost:8080/",
          "height": 1000
        },
        "id": "0rGhG62Hv2bm",
        "outputId": "ae9bf65e-97ca-4fde-a29e-132c709cb413"
      },
      "outputs": [
        {
          "data": {
            "text/html": [
              "<div>\n",
              "<style scoped>\n",
              "    .dataframe tbody tr th:only-of-type {\n",
              "        vertical-align: middle;\n",
              "    }\n",
              "\n",
              "    .dataframe tbody tr th {\n",
              "        vertical-align: top;\n",
              "    }\n",
              "\n",
              "    .dataframe thead th {\n",
              "        text-align: right;\n",
              "    }\n",
              "</style>\n",
              "<table border=\"1\" class=\"dataframe\">\n",
              "  <thead>\n",
              "    <tr style=\"text-align: right;\">\n",
              "      <th></th>\n",
              "      <th>question</th>\n",
              "      <th>contexts</th>\n",
              "      <th>answer</th>\n",
              "      <th>faithfulness</th>\n",
              "    </tr>\n",
              "  </thead>\n",
              "  <tbody>\n",
              "    <tr>\n",
              "      <th>0</th>\n",
              "      <td>What is the impact of encoding the input prompt on inference speed in generative inference?</td>\n",
              "      <td>[The generative inference workload consists of two phases: 1) encoding the input prompt and 2) generating tokens conditioned on that prompt. The key difference between these two phases is that prompt tokens are encoded in parallel (layer-by-layer), whereas the generation runs sequentially (token-by-token and layer-by-layer). In general, phase 1 works relatively well with existing Mixture- of-Experts algorithms, since each layer can only be loaded once for the entire prompt. In turn, when generating tokens, one must load layer once per each token generated. In practice, this means that inference speed is limited by how fast one can fetch parameters from system memory.\\nBelow, we look for patterns in how the MoE model loads its experts and propose ways to exploit these patterns to speed up inference time.\\n4To learn more about these methods, please refer to surveys such as Gholami et al. (2021); Liang et al. (2021) 5As opposed to running a processing a large batch of texts over many ...</td>\n",
              "      <td>The impact of encoding the input prompt on inference speed in generative models is significant. Encoding the prompt involves processing the entire input in parallel, which is relatively efficient, especially with techniques like Mixture-of-Experts. However, during token generation, the model must process each token sequentially, loading parameters repeatedly, which can slow down inference. The speed is thus limited by how quickly system memory can fetch parameters, and optimizing expert loading patterns can help improve inference speed.</td>\n",
              "      <td>0.777778</td>\n",
              "    </tr>\n",
              "    <tr>\n",
              "      <th>1</th>\n",
              "      <td>How does generating tokens affect the inference speed in generative inference?</td>\n",
              "      <td>[inference latency since the generation of tokens cannot be parallelized. There is a bunch of literature addressing the first two axes: large model size (Xiao et al., 2022; Frantar et al., 2022; Lin et al., 2023; Sheng et al., 2023; Wang et al., 2021) and attention operation (Kitaev et al., 2020; Wang et al., 2020; Dao et al., 2022; Zaheer et al., 2020; Chen et al., 2023b). These works either compress/redesign the model (Xiao et al., 2022; Frantar et al., 2022; Lin et al., 2023; Kitaev et al., 2020; Wang et al., 2020; Dao et al., 2022; Zaheer et al., 2020) or redesign the serving system (Sheng et al., 2023; Chen et al., 2023b) and hardware (Wang et al., 2021)., â¢ The average number of generated tokens outputted by LLMs per query. Much like the assessment of average prompt tokens, this metric provides an evaluation of computational efficiency, but from a token generation perspective. Instead of focusing on the number of tokens in the prompt, it takes into account the number of tok...</td>\n",
              "      <td>Generating tokens sequentially during inference significantly impacts speed because each token must be produced one after the other, rather than in parallel. This token-by-token process introduces latency, as each new token depends on the previous ones, making the overall inference slower. Additionally, the process involves repeatedly loading model parameters for each token, which can further slow down inference depending on system memory access speeds. Optimizations like model compression, efficient hardware, and improved loading strategies can help mitigate these delays.</td>\n",
              "      <td>1.000000</td>\n",
              "    </tr>\n",
              "    <tr>\n",
              "      <th>2</th>\n",
              "      <td>How does the architecture of Mixtral 8x7B differ from Mistral 7B in terms of feedforward blocks and active parameters used during inference?</td>\n",
              "      <td>[Abstract\\nWe introduce Mixtral 8x7B, a Sparse Mixture of Experts (SMoE) language model. Mixtral has the same architecture as Mistral 7B, with the difference that each layer is composed of 8 feedforward blocks (i.e. experts). For every token, at each layer, a router network selects two experts to process the current state and combine their outputs. Even though each token only sees two experts, the selected experts can be different at each timestep. As a result, each token has access to 47B parameters, but only uses 13B active parameters during inference. Mixtral was trained with a context size of 32k tokens and it outperforms or matches Llama 2 70B and GPT-3.5 across all evaluated benchmarks. In particular, Mixtral vastly outperforms Llama 2 70B on mathematics, code generation, and multilingual benchmarks. We also provide a model fine- tuned to follow instructions, Mixtral 8x7B â Instruct, that surpasses GPT-3.5 Turbo, Claude-2.1, Gemini Pro, and Llama 2 70B â chat model on hum...</td>\n",
              "      <td>Mixtral 8x7B differs from Mistral 7B primarily in its use of a sparse mixture of experts (SMoE) architecture, where each layer contains 8 feedforward (expert) blocks. During inference, only 13 billion active parameters are used per token, despite the model having access to a total of 47 billion parameters. In contrast, Mistral 7B is a dense model with a standard transformer architecture. This means Mixtral 8x7B can achieve similar or better performance with fewer active parameters during inference, leading to increased efficiency. The architecture modifications in Mixtral, such as the expert routing mechanism, distinguish it from the standard feedforward blocks used in Mistral 7B.</td>\n",
              "      <td>0.888889</td>\n",
              "    </tr>\n",
              "    <tr>\n",
              "      <th>3</th>\n",
              "      <td>When is offloading used on the A100 server for accelerating MoE-based language models?</td>\n",
              "      <td>[1When deployed in 16-bit precision, Falcon-180B needs approximately 360GB, while LLaMA-2 70B requires 140GB of combined accelerator memory.\\nIn this work, we systematically develop techniques for running large MoE language models with limited GPU memory. Our main objective is inferencing (generating tokens) with Mixtral-8x7B- Instruct â a MoE-based chat assistant â on a desktop-grade hardware where only a fraction of experts fit into the accelerator memory. To that end:\\nwe observe how MoE language model accesses its experts between tokens, and find several regularities: i) some experts are reused between adjacent tokens and ii) the model hidden states of early layers already âknowâ which experts are to be used at subsequent layers. â¢ we design a MoE-specific offloading strategy that takes advantage of these regularities: i) it uses LRU cache to significantly reduces GPU-RAM communication, leading to faster generation and ii) it guesses which experts are needed ahead of ...</td>\n",
              "      <td>Offloading in A100 servers for accelerating MoE-based language models is used during inference, especially when dealing with large models that require more memory than available on the GPU. Techniques such as expert caching, offloading experts to CPU memory, and overlapping expert loading with computation are employed to enable efficient inference on hardware with limited GPU memory. This approach allows models like Mixtral-8x7B to run interactively on consumer-grade hardware by reducing GPU memory usage and improving inference speed.</td>\n",
              "      <td>0.750000</td>\n",
              "    </tr>\n",
              "    <tr>\n",
              "      <th>4</th>\n",
              "      <td>How does Mixtral compare to Llama 2 70B in code benchmarks?</td>\n",
              "      <td>[Detailed results for Mistral 7B, Llama 2 7B/13B, and Code-Llama 7B are reported in Table 2. Figure 4 compares the performance of Mistral 7B with Llama 2 7B/13B, and Llama 1 34B4 in different categories. Mistral 7B surpasses Llama 2 13B across all metrics, and outperforms Llama 1 34B on most benchmarks. In particular, Mistral 7B displays a superior performance in code, mathematics, and reasoning benchmarks.\\n4Since Llama 2 34B was not open-sourced, we report results for Llama 1 34B.\\n3\\njm Mistral 7B = mm LLaMA2 138 50 lm Mistral 7B mm LLaMA2 138 mmm LlaMA278 lm LLaMA1 348 bel mmm LlaMA2 78 mem LlaMA 1348 70 40 vt = = eo g 7 = 330 Â£ g gs0 : &lt; &lt;20 40 10 ay MMLU Knowledge Reasoning Comprehension AGI Eval Math BBH Code, Table 2: Comparison of Mixtral with Llama. Mixtral outperforms or matches Llama 2 70B performance on almost all popular benchmarks while using 5x fewer active parameters during inference.\\n70 Mixtral 8x7B. âMixtral 8x7B Mixtral 8x7B 355 =o = Es &amp; E60! Mistral 78 % 2...</td>\n",
              "      <td>Mixtral 8x7B significantly outperforms Llama 2 70B across most benchmarks, especially in code, mathematics, and reasoning tasks, while using approximately 5 times fewer active parameters during inference. This makes Mixtral more efficient in terms of compute cost, despite having a smaller active parameter count, and it achieves comparable or superior performance on many tasks.</td>\n",
              "      <td>1.000000</td>\n",
              "    </tr>\n",
              "  </tbody>\n",
              "</table>\n",
              "</div>"
            ],
            "text/plain": [
              "                                                                                                                                       question  \\\n",
              "0                                                   What is the impact of encoding the input prompt on inference speed in generative inference?   \n",
              "1                                                                How does generating tokens affect the inference speed in generative inference?   \n",
              "2  How does the architecture of Mixtral 8x7B differ from Mistral 7B in terms of feedforward blocks and active parameters used during inference?   \n",
              "3                                                        When is offloading used on the A100 server for accelerating MoE-based language models?   \n",
              "4                                                                                   How does Mixtral compare to Llama 2 70B in code benchmarks?   \n",
              "\n",
              "                                                                                                                                                                                                                                                                                                                                                                                                                                                                                                                                                                                                                                                                                                                                                                                                                                                                                                                                                                                                                                  contexts  \\\n",
              "0  [The generative inference workload consists of two phases: 1) encoding the input prompt and 2) generating tokens conditioned on that prompt. The key difference between these two phases is that prompt tokens are encoded in parallel (layer-by-layer), whereas the generation runs sequentially (token-by-token and layer-by-layer). In general, phase 1 works relatively well with existing Mixture- of-Experts algorithms, since each layer can only be loaded once for the entire prompt. In turn, when generating tokens, one must load layer once per each token generated. In practice, this means that inference speed is limited by how fast one can fetch parameters from system memory.\\nBelow, we look for patterns in how the MoE model loads its experts and propose ways to exploit these patterns to speed up inference time.\\n4To learn more about these methods, please refer to surveys such as Gholami et al. (2021); Liang et al. (2021) 5As opposed to running a processing a large batch of texts over many ...   \n",
              "1  [inference latency since the generation of tokens cannot be parallelized. There is a bunch of literature addressing the first two axes: large model size (Xiao et al., 2022; Frantar et al., 2022; Lin et al., 2023; Sheng et al., 2023; Wang et al., 2021) and attention operation (Kitaev et al., 2020; Wang et al., 2020; Dao et al., 2022; Zaheer et al., 2020; Chen et al., 2023b). These works either compress/redesign the model (Xiao et al., 2022; Frantar et al., 2022; Lin et al., 2023; Kitaev et al., 2020; Wang et al., 2020; Dao et al., 2022; Zaheer et al., 2020) or redesign the serving system (Sheng et al., 2023; Chen et al., 2023b) and hardware (Wang et al., 2021)., â¢ The average number of generated tokens outputted by LLMs per query. Much like the assessment of average prompt tokens, this metric provides an evaluation of computational efficiency, but from a token generation perspective. Instead of focusing on the number of tokens in the prompt, it takes into account the number of tok...   \n",
              "2  [Abstract\\nWe introduce Mixtral 8x7B, a Sparse Mixture of Experts (SMoE) language model. Mixtral has the same architecture as Mistral 7B, with the difference that each layer is composed of 8 feedforward blocks (i.e. experts). For every token, at each layer, a router network selects two experts to process the current state and combine their outputs. Even though each token only sees two experts, the selected experts can be different at each timestep. As a result, each token has access to 47B parameters, but only uses 13B active parameters during inference. Mixtral was trained with a context size of 32k tokens and it outperforms or matches Llama 2 70B and GPT-3.5 across all evaluated benchmarks. In particular, Mixtral vastly outperforms Llama 2 70B on mathematics, code generation, and multilingual benchmarks. We also provide a model fine- tuned to follow instructions, Mixtral 8x7B â Instruct, that surpasses GPT-3.5 Turbo, Claude-2.1, Gemini Pro, and Llama 2 70B â chat model on hum...   \n",
              "3  [1When deployed in 16-bit precision, Falcon-180B needs approximately 360GB, while LLaMA-2 70B requires 140GB of combined accelerator memory.\\nIn this work, we systematically develop techniques for running large MoE language models with limited GPU memory. Our main objective is inferencing (generating tokens) with Mixtral-8x7B- Instruct â a MoE-based chat assistant â on a desktop-grade hardware where only a fraction of experts fit into the accelerator memory. To that end:\\nwe observe how MoE language model accesses its experts between tokens, and find several regularities: i) some experts are reused between adjacent tokens and ii) the model hidden states of early layers already âknowâ which experts are to be used at subsequent layers. â¢ we design a MoE-specific offloading strategy that takes advantage of these regularities: i) it uses LRU cache to significantly reduces GPU-RAM communication, leading to faster generation and ii) it guesses which experts are needed ahead of ...   \n",
              "4  [Detailed results for Mistral 7B, Llama 2 7B/13B, and Code-Llama 7B are reported in Table 2. Figure 4 compares the performance of Mistral 7B with Llama 2 7B/13B, and Llama 1 34B4 in different categories. Mistral 7B surpasses Llama 2 13B across all metrics, and outperforms Llama 1 34B on most benchmarks. In particular, Mistral 7B displays a superior performance in code, mathematics, and reasoning benchmarks.\\n4Since Llama 2 34B was not open-sourced, we report results for Llama 1 34B.\\n3\\njm Mistral 7B = mm LLaMA2 138 50 lm Mistral 7B mm LLaMA2 138 mmm LlaMA278 lm LLaMA1 348 bel mmm LlaMA2 78 mem LlaMA 1348 70 40 vt = = eo g 7 = 330 Â£ g gs0 : < <20 40 10 ay MMLU Knowledge Reasoning Comprehension AGI Eval Math BBH Code, Table 2: Comparison of Mixtral with Llama. Mixtral outperforms or matches Llama 2 70B performance on almost all popular benchmarks while using 5x fewer active parameters during inference.\\n70 Mixtral 8x7B. âMixtral 8x7B Mixtral 8x7B 355 =o = Es & E60! Mistral 78 % 2...   \n",
              "\n",
              "                                                                                                                                                                                                                                                                                                                                                                                                                                                                                                                                                                                                                                                                                                              answer  \\\n",
              "0                                                                                                                                                     The impact of encoding the input prompt on inference speed in generative models is significant. Encoding the prompt involves processing the entire input in parallel, which is relatively efficient, especially with techniques like Mixture-of-Experts. However, during token generation, the model must process each token sequentially, loading parameters repeatedly, which can slow down inference. The speed is thus limited by how quickly system memory can fetch parameters, and optimizing expert loading patterns can help improve inference speed.   \n",
              "1                                                                                                                Generating tokens sequentially during inference significantly impacts speed because each token must be produced one after the other, rather than in parallel. This token-by-token process introduces latency, as each new token depends on the previous ones, making the overall inference slower. Additionally, the process involves repeatedly loading model parameters for each token, which can further slow down inference depending on system memory access speeds. Optimizations like model compression, efficient hardware, and improved loading strategies can help mitigate these delays.   \n",
              "2  Mixtral 8x7B differs from Mistral 7B primarily in its use of a sparse mixture of experts (SMoE) architecture, where each layer contains 8 feedforward (expert) blocks. During inference, only 13 billion active parameters are used per token, despite the model having access to a total of 47 billion parameters. In contrast, Mistral 7B is a dense model with a standard transformer architecture. This means Mixtral 8x7B can achieve similar or better performance with fewer active parameters during inference, leading to increased efficiency. The architecture modifications in Mixtral, such as the expert routing mechanism, distinguish it from the standard feedforward blocks used in Mistral 7B.   \n",
              "3                                                                                                                                                       Offloading in A100 servers for accelerating MoE-based language models is used during inference, especially when dealing with large models that require more memory than available on the GPU. Techniques such as expert caching, offloading experts to CPU memory, and overlapping expert loading with computation are employed to enable efficient inference on hardware with limited GPU memory. This approach allows models like Mixtral-8x7B to run interactively on consumer-grade hardware by reducing GPU memory usage and improving inference speed.   \n",
              "4                                                                                                                                                                                                                                                                                                                        Mixtral 8x7B significantly outperforms Llama 2 70B across most benchmarks, especially in code, mathematics, and reasoning tasks, while using approximately 5 times fewer active parameters during inference. This makes Mixtral more efficient in terms of compute cost, despite having a smaller active parameter count, and it achieves comparable or superior performance on many tasks.   \n",
              "\n",
              "   faithfulness  \n",
              "0      0.777778  \n",
              "1      1.000000  \n",
              "2      0.888889  \n",
              "3      0.750000  \n",
              "4      1.000000  "
            ]
          },
          "execution_count": 60,
          "metadata": {},
          "output_type": "execute_result"
        }
      ],
      "source": [
        "pd.set_option(\"display.max_colwidth\", 1000)\n",
        "final_result[[\"question\", \"contexts\", \"answer\", \"faithfulness\"]]"
      ]
    },
    {
      "cell_type": "markdown",
      "metadata": {
        "id": "xQrPEENFg4j7"
      },
      "source": [
        "Cuando calculamos _faithfulness_, RAGAS utiliza modelos LLM de OpenAI para identificar qué afirmaciones están presentes en la respuesta y si también aparecen en el contexto.  \n",
        "Debido a la naturaleza \"generativa\" de este enfoque, no siempre obtendremos puntuaciones completamente precisas.\n",
        "\n",
        "Podemos observar que obtenemos puntuaciones perfectas en los casos 2 y 3, pero menores a 1 en los casos 1, 4 y 5. Sin embargo, al analizarlos, se pueden identificar afirmaciones que parecen estar relacionadas. Aun así, estas últimas respuestas parecen estar menos fundamentadas en el contexto que las otras, lo cual justifica esta menor puntuación.\n"
      ]
    },
    {
      "cell_type": "markdown",
      "metadata": {
        "id": "JxZEFhW0h1FE"
      },
      "source": [
        "### Answer Relevancy"
      ]
    },
    {
      "cell_type": "markdown",
      "metadata": {
        "id": "IIA7gdXqh2wF"
      },
      "source": [
        "La métrica **Answer Relevancy** (Relevancia de la respuesta) se enfoca en el componente de generación y es similar a la métrica de _context precision_, pero aplicada a la respuesta. Evalúa **qué tan relevante es la respuesta respecto a la pregunta original**.\n",
        "\n",
        "Se obtiene una **puntuación baja** de _answer relevancy_ cuando:\n",
        "\n",
        "- Las respuestas están **incompletas**.\n",
        "- Las respuestas contienen **información redundante o irrelevante**.\n",
        "\n",
        "Una **alta puntuación** en _answer relevancy_ indica que la respuesta es **concisa**, directa y **no contiene \"relleno\"** (es decir, información que no responde a la pregunta).\n",
        "\n",
        "#### ¿Cómo se calcula?\n",
        "\n",
        "Se le pide a un **modelo de lenguaje (LLM)** que genere varias preguntas hipotéticas a partir de la respuesta generada. Luego se calcula la **similitud del coseno** entre la **pregunta original** y estas **preguntas generadas**.  \n",
        "\n",
        "Naturalmente, si una respuesta es **precisa y específica**, las preguntas generadas tenderán a tener **alta similitud** con la original."
      ]
    },
    {
      "cell_type": "code",
      "execution_count": 59,
      "metadata": {
        "colab": {
          "base_uri": "https://localhost:8080/",
          "height": 796
        },
        "id": "G_w-A1WOzddF",
        "outputId": "32c765a8-73c3-4e31-b1c9-7a8ead2c2cdf"
      },
      "outputs": [
        {
          "data": {
            "text/html": [
              "<div>\n",
              "<style scoped>\n",
              "    .dataframe tbody tr th:only-of-type {\n",
              "        vertical-align: middle;\n",
              "    }\n",
              "\n",
              "    .dataframe tbody tr th {\n",
              "        vertical-align: top;\n",
              "    }\n",
              "\n",
              "    .dataframe thead th {\n",
              "        text-align: right;\n",
              "    }\n",
              "</style>\n",
              "<table border=\"1\" class=\"dataframe\">\n",
              "  <thead>\n",
              "    <tr style=\"text-align: right;\">\n",
              "      <th></th>\n",
              "      <th>question</th>\n",
              "      <th>answer</th>\n",
              "      <th>answer_relevancy</th>\n",
              "    </tr>\n",
              "  </thead>\n",
              "  <tbody>\n",
              "    <tr>\n",
              "      <th>0</th>\n",
              "      <td>What is the impact of encoding the input prompt on inference speed in generative inference?</td>\n",
              "      <td>The impact of encoding the input prompt on inference speed in generative models is significant. Encoding the prompt involves processing the entire input in parallel, which is relatively efficient, especially with techniques like Mixture-of-Experts. However, during token generation, the model must process each token sequentially, loading parameters repeatedly, which can slow down inference. The speed is thus limited by how quickly system memory can fetch parameters, and optimizing expert loading patterns can help improve inference speed.</td>\n",
              "      <td>0.989880</td>\n",
              "    </tr>\n",
              "    <tr>\n",
              "      <th>1</th>\n",
              "      <td>How does generating tokens affect the inference speed in generative inference?</td>\n",
              "      <td>Generating tokens sequentially during inference significantly impacts speed because each token must be produced one after the other, rather than in parallel. This token-by-token process introduces latency, as each new token depends on the previous ones, making the overall inference slower. Additionally, the process involves repeatedly loading model parameters for each token, which can further slow down inference depending on system memory access speeds. Optimizations like model compression, efficient hardware, and improved loading strategies can help mitigate these delays.</td>\n",
              "      <td>0.956186</td>\n",
              "    </tr>\n",
              "    <tr>\n",
              "      <th>2</th>\n",
              "      <td>How does the architecture of Mixtral 8x7B differ from Mistral 7B in terms of feedforward blocks and active parameters used during inference?</td>\n",
              "      <td>Mixtral 8x7B differs from Mistral 7B primarily in its use of a sparse mixture of experts (SMoE) architecture, where each layer contains 8 feedforward (expert) blocks. During inference, only 13 billion active parameters are used per token, despite the model having access to a total of 47 billion parameters. In contrast, Mistral 7B is a dense model with a standard transformer architecture. This means Mixtral 8x7B can achieve similar or better performance with fewer active parameters during inference, leading to increased efficiency. The architecture modifications in Mixtral, such as the expert routing mechanism, distinguish it from the standard feedforward blocks used in Mistral 7B.</td>\n",
              "      <td>0.907801</td>\n",
              "    </tr>\n",
              "    <tr>\n",
              "      <th>3</th>\n",
              "      <td>When is offloading used on the A100 server for accelerating MoE-based language models?</td>\n",
              "      <td>Offloading in A100 servers for accelerating MoE-based language models is used during inference, especially when dealing with large models that require more memory than available on the GPU. Techniques such as expert caching, offloading experts to CPU memory, and overlapping expert loading with computation are employed to enable efficient inference on hardware with limited GPU memory. This approach allows models like Mixtral-8x7B to run interactively on consumer-grade hardware by reducing GPU memory usage and improving inference speed.</td>\n",
              "      <td>0.967998</td>\n",
              "    </tr>\n",
              "    <tr>\n",
              "      <th>4</th>\n",
              "      <td>How does Mixtral compare to Llama 2 70B in code benchmarks?</td>\n",
              "      <td>Mixtral 8x7B significantly outperforms Llama 2 70B across most benchmarks, especially in code, mathematics, and reasoning tasks, while using approximately 5 times fewer active parameters during inference. This makes Mixtral more efficient in terms of compute cost, despite having a smaller active parameter count, and it achieves comparable or superior performance on many tasks.</td>\n",
              "      <td>0.937216</td>\n",
              "    </tr>\n",
              "  </tbody>\n",
              "</table>\n",
              "</div>"
            ],
            "text/plain": [
              "                                                                                                                                       question  \\\n",
              "0                                                   What is the impact of encoding the input prompt on inference speed in generative inference?   \n",
              "1                                                                How does generating tokens affect the inference speed in generative inference?   \n",
              "2  How does the architecture of Mixtral 8x7B differ from Mistral 7B in terms of feedforward blocks and active parameters used during inference?   \n",
              "3                                                        When is offloading used on the A100 server for accelerating MoE-based language models?   \n",
              "4                                                                                   How does Mixtral compare to Llama 2 70B in code benchmarks?   \n",
              "\n",
              "                                                                                                                                                                                                                                                                                                                                                                                                                                                                                                                                                                                                                                                                                                              answer  \\\n",
              "0                                                                                                                                                     The impact of encoding the input prompt on inference speed in generative models is significant. Encoding the prompt involves processing the entire input in parallel, which is relatively efficient, especially with techniques like Mixture-of-Experts. However, during token generation, the model must process each token sequentially, loading parameters repeatedly, which can slow down inference. The speed is thus limited by how quickly system memory can fetch parameters, and optimizing expert loading patterns can help improve inference speed.   \n",
              "1                                                                                                                Generating tokens sequentially during inference significantly impacts speed because each token must be produced one after the other, rather than in parallel. This token-by-token process introduces latency, as each new token depends on the previous ones, making the overall inference slower. Additionally, the process involves repeatedly loading model parameters for each token, which can further slow down inference depending on system memory access speeds. Optimizations like model compression, efficient hardware, and improved loading strategies can help mitigate these delays.   \n",
              "2  Mixtral 8x7B differs from Mistral 7B primarily in its use of a sparse mixture of experts (SMoE) architecture, where each layer contains 8 feedforward (expert) blocks. During inference, only 13 billion active parameters are used per token, despite the model having access to a total of 47 billion parameters. In contrast, Mistral 7B is a dense model with a standard transformer architecture. This means Mixtral 8x7B can achieve similar or better performance with fewer active parameters during inference, leading to increased efficiency. The architecture modifications in Mixtral, such as the expert routing mechanism, distinguish it from the standard feedforward blocks used in Mistral 7B.   \n",
              "3                                                                                                                                                       Offloading in A100 servers for accelerating MoE-based language models is used during inference, especially when dealing with large models that require more memory than available on the GPU. Techniques such as expert caching, offloading experts to CPU memory, and overlapping expert loading with computation are employed to enable efficient inference on hardware with limited GPU memory. This approach allows models like Mixtral-8x7B to run interactively on consumer-grade hardware by reducing GPU memory usage and improving inference speed.   \n",
              "4                                                                                                                                                                                                                                                                                                                        Mixtral 8x7B significantly outperforms Llama 2 70B across most benchmarks, especially in code, mathematics, and reasoning tasks, while using approximately 5 times fewer active parameters during inference. This makes Mixtral more efficient in terms of compute cost, despite having a smaller active parameter count, and it achieves comparable or superior performance on many tasks.   \n",
              "\n",
              "   answer_relevancy  \n",
              "0          0.989880  \n",
              "1          0.956186  \n",
              "2          0.907801  \n",
              "3          0.967998  \n",
              "4          0.937216  "
            ]
          },
          "execution_count": 59,
          "metadata": {},
          "output_type": "execute_result"
        }
      ],
      "source": [
        "pd.set_option(\"display.max_colwidth\", 700)\n",
        "final_result[[\"question\", \"answer\", \"answer_relevancy\"]]"
      ]
    },
    {
      "cell_type": "markdown",
      "metadata": {
        "id": "NCXWYnBlr69a"
      },
      "source": [
        "Se observa una buena performance (similitud mayor a 0.9) para todas las preguntas evaluadas."
      ]
    },
    {
      "cell_type": "markdown",
      "metadata": {
        "id": "CVaNDvKwl7BE"
      },
      "source": [
        "---"
      ]
    }
  ],
  "metadata": {
    "colab": {
      "provenance": []
    },
    "kernelspec": {
      "display_name": "Python 3",
      "language": "python",
      "name": "python3"
    },
    "language_info": {
      "codemirror_mode": {
        "name": "ipython",
        "version": 3
      },
      "file_extension": ".py",
      "mimetype": "text/x-python",
      "name": "python",
      "nbconvert_exporter": "python",
      "pygments_lexer": "ipython3",
      "version": "3.12.4"
    }
  },
  "nbformat": 4,
  "nbformat_minor": 0
}
